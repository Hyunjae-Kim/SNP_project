{
 "cells": [
  {
   "cell_type": "code",
   "execution_count": 2,
   "metadata": {},
   "outputs": [],
   "source": [
    "import os\n",
    "import numpy as np\n",
    "import json\n",
    "import matplotlib.pyplot as plt\n",
    "import pandas as pd\n",
    "from scipy.stats import pearsonr as pearr"
   ]
  },
  {
   "cell_type": "code",
   "execution_count": 4,
   "metadata": {
    "scrolled": true
   },
   "outputs": [
    {
     "name": "stdout",
     "output_type": "stream",
     "text": [
      "gene 3 // k5 _ last saved snp2 loaded. //  3\n",
      "gene 6 // k5 _ last saved snp2 loaded. //  6\n",
      "gene 7 // k1 _ last saved snp2 loaded. //  7\n",
      "gene 7 // k4 _ last saved snp2 loaded. //  7\n",
      "gene 7 // k5 _ last saved snp2 loaded. //  7\n",
      "gene 9 // k2 _ last saved snp2 loaded. //  9\n",
      "gene 11 // k4 _ last saved snp2 loaded. //  11\n",
      "gene 11 // k5 _ last saved snp2 loaded. //  11\n",
      "gene 12 // k1 _ last saved snp2 loaded. //  12\n",
      "gene 12 // k3 _ last saved snp2 loaded. //  12\n",
      "gene 12 // k5 _ last saved snp2 loaded. //  12\n",
      "gene 14 // k1 _ last saved snp2 loaded. //  14\n",
      "gene 14 // k5 _ last saved snp2 loaded. //  14\n",
      "gene 16 // k2 _ last saved snp2 loaded. //  16\n",
      "gene 16 // k4 _ last saved snp2 loaded. //  16\n",
      "gene 16 // k5 _ last saved snp2 loaded. //  16\n",
      "gene 23 // k4 _ last saved snp2 loaded. //  23\n",
      "gene 24 // k4 _ last saved snp2 loaded. //  24\n",
      "gene 29 // k4 _ last saved snp2 loaded. //  29\n",
      "gene 32 // k2 _ last saved snp2 loaded. //  32\n",
      "gene 33 // k4 _ last saved snp2 loaded. //  33\n",
      "gene 33 // k5 _ last saved snp2 loaded. //  33\n",
      "gene 35 // k1 _ last saved snp2 loaded. //  35\n",
      "gene 35 // k5 _ last saved snp2 loaded. //  35\n",
      "gene 38 // k4 _ last saved snp2 loaded. //  38\n",
      "gene 38 // k5 _ last saved snp2 loaded. //  38\n",
      "gene 42 // k3 _ last saved snp2 loaded. //  42\n",
      "gene 42 // k5 _ last saved snp2 loaded. //  42\n",
      "gene 44 // k1 _ last saved snp2 loaded. //  44\n",
      "gene 44 // k2 _ last saved snp2 loaded. //  44\n",
      "gene 44 // k3 _ last saved snp2 loaded. //  44\n",
      "gene 44 // k4 _ last saved snp2 loaded. //  44\n",
      "gene 47 // k2 _ last saved snp2 loaded. //  47\n",
      "gene 47 // k3 _ last saved snp2 loaded. //  47\n",
      "gene 50 // k2 _ last saved snp2 loaded. //  50\n",
      "gene 53 // k2 _ last saved snp2 loaded. //  53\n",
      "gene 54 // k4 _ last saved snp2 loaded. //  54\n",
      "gene 56 // k1 _ last saved snp2 loaded. //  56\n",
      "gene 56 // k2 _ last saved snp2 loaded. //  56\n",
      "gene 56 // k5 _ last saved snp2 loaded. //  56\n",
      "gene 58 // k3 _ last saved snp2 loaded. //  58\n",
      "gene 58 // k5 _ last saved snp2 loaded. //  58\n",
      "gene 59 // k4 _ last saved snp2 loaded. //  59\n",
      "gene 61 // k3 _ last saved snp2 loaded. //  61\n",
      "gene 61 // k4 _ last saved snp2 loaded. //  61\n",
      "62\n",
      "FAM118A - UTMOST R sqr : 0.70042\n"
     ]
    },
    {
     "data": {
      "image/png": "[encoded data removed]",
      "text/plain": [
       "<Figure size 432x288 with 1 Axes>"
      ]
     },
     "metadata": {
      "needs_background": "light"
     },
     "output_type": "display_data"
    },
    {
     "name": "stdout",
     "output_type": "stream",
     "text": [
      "gene 65 // k2 _ last saved snp2 loaded. //  65\n",
      "gene 66 // k1 _ last saved snp2 loaded. //  66\n",
      "gene 68 // k1 _ last saved snp2 loaded. //  68\n",
      "gene 69 // k4 _ last saved snp2 loaded. //  69\n",
      "gene 71 // k2 _ last saved snp2 loaded. //  71\n",
      "gene 79 // k1 _ last saved snp2 loaded. //  79\n",
      "gene 83 // k2 _ last saved snp2 loaded. //  83\n",
      "gene 90 // k1 _ last saved snp2 loaded. //  90\n",
      "gene 90 // k3 _ last saved snp2 loaded. //  90\n",
      "gene 90 // k5 _ last saved snp2 loaded. //  90\n",
      "gene 91 // k3 _ last saved snp2 loaded. //  91\n",
      "gene 93 // k4 _ last saved snp2 loaded. //  93\n",
      "gene 96 // k2 _ last saved snp2 loaded. //  96\n",
      "gene 96 // k5 _ last saved snp2 loaded. //  96\n",
      "gene 98 // k3 _ last saved snp2 loaded. //  98\n"
     ]
    }
   ],
   "source": [
    "trial_num = 8\n",
    "model_num = 1\n",
    "tissue_num = 27\n",
    "check_t_num = 27\n",
    "\n",
    "ensg_name = json.load(open('whole_ensg2name.json'))\n",
    "name_rsqr = json.load(open('top500_over100_name2rsqr.json'))\n",
    "\n",
    "gene_data_name = 'UTMOST_top500_over100_Liver'\n",
    "gene_list = os.listdir('../%s/'%gene_data_name)\n",
    "\n",
    "gene_idx_match = np.load('../%s_matching.npy'%gene_data_name)\n",
    "\n",
    "r_list = []\n",
    "r_ref_list = []\n",
    "gene_name_list = []\n",
    "for g in range(100):\n",
    "    gene_num = g+1\n",
    "    gene_name = gene_list[g]\n",
    "\n",
    "#     cor_idx = np.where(gene_idx_match==gene_name)[0]\n",
    "#     gene_num = cor_idx +1\n",
    "\n",
    "    gene_real_name = ensg_name[gene_name]\n",
    "    gene_r_score = name_rsqr[gene_real_name]\n",
    "    r_ref_list.append(gene_r_score)\n",
    "    gene_name_list.append(gene_real_name)\n",
    "    \n",
    "    GX_observed = np.array([])\n",
    "    GX_predicted = np.array([])\n",
    "    for k in range(5):\n",
    "        k_num = k+1\n",
    "\n",
    "        try:\n",
    "            SNP2_tr = np.load('npy/trial%d/gene%d/model%d/%dtissue_trSNP2_k%d.npy'\\\n",
    "                              %(trial_num, gene_num, model_num, tissue_num, k_num))\n",
    "            SNP2_te = np.load('npy/trial%d/gene%d/model%d/%dtissue_teSNP2_k%d.npy'\\\n",
    "                              %(trial_num, gene_num, model_num, tissue_num, k_num))\n",
    "        except FileNotFoundError:\n",
    "            print('gene %d // k%d _ last saved snp2 loaded.'%(gene_num, k+1), '// ', g+1)\n",
    "            SNP2_tr = np.load('npy/trial%d/gene%d/model%d/%dtissue_trSNP2_k%d_last.npy'\\\n",
    "                              %(trial_num, gene_num, model_num, tissue_num, k_num))\n",
    "            SNP2_te = np.load('npy/trial%d/gene%d/model%d/%dtissue_teSNP2_k%d_last.npy'\\\n",
    "                              %(trial_num, gene_num, model_num, tissue_num, k_num))\n",
    "        GX_tr = np.load('npy/trial%d/gene%d/model%d/%dtissue_trGX_k%d.npy'\\\n",
    "                        %(trial_num, gene_num, model_num, tissue_num, k_num))\n",
    "        GX_te = np.load('npy/trial%d/gene%d/model%d/%dtissue_teGX_k%d.npy'\\\n",
    "                        %(trial_num, gene_num, model_num, tissue_num, k_num))\n",
    "\n",
    "        GX_observed = np.append(GX_observed, np.reshape(GX_te, -1))\n",
    "        GX_predicted = np.append(GX_predicted, np.reshape(SNP2_te, -1))\n",
    "    R_, p = pearr(GX_observed, GX_predicted)\n",
    "    R2 = R_**2\n",
    "\n",
    "    r_list.append(R2)\n",
    "    \n",
    "    if g==61:\n",
    "        print(gene_num)\n",
    "        print('%s - UTMOST R sqr : %.5f'%(gene_real_name, gene_r_score))\n",
    "        plt.plot(GX_predicted, GX_observed, 'r*')\n",
    "        plt.title('[%d]%s : %.5f'%(gene_num, gene_real_name, R2), fontsize=14)\n",
    "        plt.ylabel('Normalized Observed expression', fontsize=13)\n",
    "        plt.xlabel('Predicted expression', fontsize=13)\n",
    "#         plt.savefig('img/trial%d/Scatter_model%d_gene%d.png'%(trial_num, model_num, gene_num))\n",
    "        plt.show()"
   ]
  },
  {
   "cell_type": "code",
   "execution_count": 5,
   "metadata": {},
   "outputs": [
    {
     "name": "stdout",
     "output_type": "stream",
     "text": [
      "0.11349063433760892 0.18043367929888782\n"
     ]
    },
    {
     "data": {
      "image/png": "[encoded data removed]",
      "text/plain": [
       "<Figure size 432x288 with 1 Axes>"
      ]
     },
     "metadata": {
      "needs_background": "light"
     },
     "output_type": "display_data"
    }
   ],
   "source": [
    "sort_idx = np.argsort(r_ref_list)\n",
    "avg_model = np.mean(np.array(r_list)[sort_idx])\n",
    "avg_utmost = np.mean(np.array(r_ref_list)[sort_idx])\n",
    "print(avg_model, avg_utmost)\n",
    "\n",
    "plt.title('UTMOST vs Trial%d (model %d)'%(trial_num, model_num), fontsize=14)\n",
    "plt.plot(np.array(r_list)[sort_idx], 'r.', label='Model')\n",
    "plt.plot(np.array(r_ref_list)[sort_idx], 'b.', label='UTMOST')\n",
    "# plt.plot([-1,101],[avg_model, avg_model], 'r--', alpha=0.7)\n",
    "# plt.plot([-1,101],[avg_utmost, avg_utmost], 'b--', alpha=0.7)\n",
    "# plt.xticks(np.arange(10),np.arange(10)+1)\n",
    "plt.xlabel('Gene index', fontsize=13)\n",
    "plt.ylabel('R square', fontsize=13)\n",
    "plt.legend()\n",
    "# plt.savefig('img/trial%d/vsUTMOST_model%d.png'%(trial_num, model_num))\n",
    "plt.show()"
   ]
  },
  {
   "cell_type": "code",
   "execution_count": null,
   "metadata": {},
   "outputs": [],
   "source": []
  }
 ],
 "metadata": {
  "kernelspec": {
   "display_name": "Python 3",
   "language": "python",
   "name": "python3"
  },
  "language_info": {
   "codemirror_mode": {
    "name": "ipython",
    "version": 3
   },
   "file_extension": ".py",
   "mimetype": "text/x-python",
   "name": "python",
   "nbconvert_exporter": "python",
   "pygments_lexer": "ipython3",
   "version": "3.7.4"
  }
 },
 "nbformat": 4,
 "nbformat_minor": 2
}
