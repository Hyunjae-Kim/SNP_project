{
 "cells": [
  {
   "cell_type": "code",
   "execution_count": 10,
   "metadata": {},
   "outputs": [],
   "source": [
    "import os\n",
    "import time\n",
    "import argparse\n",
    "import module\n",
    "import numpy as np\n",
    "import matplotlib.pyplot as plt\n",
    "from model2 import Model\n",
    "\n",
    "import torch\n",
    "import torch.nn as nn\n",
    "import torch.nn.functional as F\n",
    "import torch.utils as utils\n",
    "import torch.nn.init as init"
   ]
  },
  {
   "cell_type": "code",
   "execution_count": 11,
   "metadata": {},
   "outputs": [
    {
     "name": "stdout",
     "output_type": "stream",
     "text": [
      "\n",
      "\n",
      "[Gene 6] Model 4 ( tissue 27 ) - 5/5 fold data\n",
      "Option : lasso coeff : 0.3000\n"
     ]
    }
   ],
   "source": [
    "trial_num = 2\n",
    "gene_num = 6\n",
    "model_num = 4\n",
    "tissue_num = 27\n",
    "k_num = 5\n",
    "lasso_alpha = 0.3\n",
    "\n",
    "try:\n",
    "    if not os.path.exists('../img/trial%d/gene%d/weight_plot'%(trial_num, gene_num)): \n",
    "        os.mkdir('../img/trial%d/gene%d/weight_plot'%(trial_num, gene_num))\n",
    "except FileExistsError:\n",
    "    print('Already exist folder')\n",
    "    \n",
    "gene_data_name = 'UTMOST_top10_Liver'\n",
    "gene_list = os.listdir('../../%s/'%gene_data_name)\n",
    "gene_name = gene_list[gene_num-1]\n",
    "\n",
    "print('\\n\\n[Gene %d] Model %d ( tissue %d ) - %d/5 fold data'%(gene_num, model_num, tissue_num, k_num))\n",
    "print('Option : lasso coeff : %.4f'%lasso_alpha)"
   ]
  },
  {
   "cell_type": "code",
   "execution_count": 3,
   "metadata": {},
   "outputs": [
    {
     "name": "stdout",
     "output_type": "stream",
     "text": [
      "\n",
      "Data shape @@@@@@\n",
      "Train data :  torch.Size([120, 27389])  /  torch.Size([120, 1])\n",
      "Test data :  torch.Size([33, 27389])  /  torch.Size([33, 1])\n",
      "\n",
      "\n"
     ]
    }
   ],
   "source": [
    "device = torch.device('cuda:1' if torch.cuda.is_available() else 'cpu')\n",
    "\n",
    "start_time = time.time()\n",
    "np.random.seed(37)\n",
    "torch.manual_seed(37)\n",
    "torch.cuda.manual_seed_all(37)\n",
    "torch.backends.cudnn.deterministic = True\n",
    "\n",
    "snp, gx = module.load_data(gene_data_name, gene_name, tissue_num, proc=True)\n",
    "snp_train, snp_test, gx_train, gx_test = module.k_fold_data(snp, gx, 5, k_num)\n",
    "\n",
    "snp_train = torch.Tensor(snp_train).to(device)\n",
    "snp_test = torch.Tensor(snp_test).to(device)\n",
    "gx_train = torch.Tensor(gx_train).to(device)\n",
    "gx_test = torch.Tensor(gx_test).to(device)\n",
    "\n",
    "print('\\nData shape @@@@@@')\n",
    "print('Train data : ', np.shape(snp_train),' / ', np.shape(gx_train))\n",
    "print('Test data : ', np.shape(snp_test), ' / ', np.shape(gx_test))\n",
    "print('\\n')"
   ]
  },
  {
   "cell_type": "code",
   "execution_count": 4,
   "metadata": {},
   "outputs": [
    {
     "name": "stdout",
     "output_type": "stream",
     "text": [
      "iteration : 0/5000  -  train loss : 25.631 /   test loss : 24.731\n",
      "iteration : 100/5000  -  train loss : 1.451 /   test loss : 0.911\n",
      "iteration : 200/5000  -  train loss : 1.174 /   test loss : 0.661\n",
      "iteration : 300/5000  -  train loss : 1.119 /   test loss : 0.68\n",
      "iteration : 400/5000  -  train loss : 1.086 /   test loss : 0.698\n",
      "iteration : 500/5000  -  train loss : 1.064 /   test loss : 0.713\n",
      "iteration : 600/5000  -  train loss : 1.049 /   test loss : 0.723\n",
      "iteration : 700/5000  -  train loss : 1.039 /   test loss : 0.734\n",
      "iteration : 800/5000  -  train loss : 1.033 /   test loss : 0.741\n",
      "iteration : 900/5000  -  train loss : 1.027 /   test loss : 0.747\n",
      "iteration : 1000/5000  -  train loss : 1.024 /   test loss : 0.754\n",
      "iteration : 1100/5000  -  train loss : 1.022 /   test loss : 0.758\n",
      "iteration : 1200/5000  -  train loss : 1.02 /   test loss : 0.761\n",
      "iteration : 1300/5000  -  train loss : 1.02 /   test loss : 0.765\n",
      "iteration : 1400/5000  -  train loss : 1.018 /   test loss : 0.765\n",
      "iteration : 1500/5000  -  train loss : 1.017 /   test loss : 0.765\n",
      "iteration : 1600/5000  -  train loss : 1.017 /   test loss : 0.767\n",
      "iteration : 1700/5000  -  train loss : 1.016 /   test loss : 0.765\n",
      "iteration : 1800/5000  -  train loss : 1.015 /   test loss : 0.765\n",
      "iteration : 1900/5000  -  train loss : 1.014 /   test loss : 0.765\n",
      "iteration : 2000/5000  -  train loss : 1.013 /   test loss : 0.766\n",
      "iteration : 2100/5000  -  train loss : 1.013 /   test loss : 0.767\n",
      "iteration : 2200/5000  -  train loss : 1.012 /   test loss : 0.766\n",
      "iteration : 2300/5000  -  train loss : 1.012 /   test loss : 0.766\n",
      "iteration : 2400/5000  -  train loss : 1.01 /   test loss : 0.767\n",
      "iteration : 2500/5000  -  train loss : 1.01 /   test loss : 0.768\n",
      "iteration : 2600/5000  -  train loss : 1.009 /   test loss : 0.768\n",
      "iteration : 2700/5000  -  train loss : 1.008 /   test loss : 0.767\n",
      "iteration : 2800/5000  -  train loss : 1.008 /   test loss : 0.769\n",
      "iteration : 2900/5000  -  train loss : 1.007 /   test loss : 0.769\n",
      "iteration : 3000/5000  -  train loss : 1.007 /   test loss : 0.771\n",
      "iteration : 3100/5000  -  train loss : 1.006 /   test loss : 0.769\n",
      "iteration : 3200/5000  -  train loss : 1.006 /   test loss : 0.771\n",
      "iteration : 3300/5000  -  train loss : 1.005 /   test loss : 0.77\n",
      "iteration : 3400/5000  -  train loss : 1.005 /   test loss : 0.77\n",
      "iteration : 3500/5000  -  train loss : 1.004 /   test loss : 0.771\n",
      "iteration : 3600/5000  -  train loss : 1.004 /   test loss : 0.771\n",
      "iteration : 3700/5000  -  train loss : 1.004 /   test loss : 0.771\n",
      "iteration : 3800/5000  -  train loss : 1.003 /   test loss : 0.773\n",
      "iteration : 3900/5000  -  train loss : 1.003 /   test loss : 0.773\n",
      "iteration : 4000/5000  -  train loss : 1.003 /   test loss : 0.775\n",
      "iteration : 4100/5000  -  train loss : 1.003 /   test loss : 0.775\n",
      "iteration : 4200/5000  -  train loss : 1.002 /   test loss : 0.774\n",
      "iteration : 4300/5000  -  train loss : 1.002 /   test loss : 0.773\n",
      "iteration : 4400/5000  -  train loss : 1.001 /   test loss : 0.773\n",
      "iteration : 4500/5000  -  train loss : 1.001 /   test loss : 0.774\n",
      "iteration : 4600/5000  -  train loss : 1.001 /   test loss : 0.775\n",
      "iteration : 4700/5000  -  train loss : 1.001 /   test loss : 0.775\n",
      "iteration : 4800/5000  -  train loss : 1.0 /   test loss : 0.774\n",
      "iteration : 4900/5000  -  train loss : 1.0 /   test loss : 0.774\n",
      "iteration : 5000/5000  -  train loss : 1.0 /   test loss : 0.774\n"
     ]
    }
   ],
   "source": [
    "learning_rate = 0.00003\n",
    "model = Model(snp_len=snp_train.size()[-1], alpha=lasso_alpha).to(device)\n",
    "optimizer = torch.optim.Adam(model.parameters(), lr=learning_rate)\n",
    "\n",
    "tr_loss_list = []\n",
    "te_loss_list = []\n",
    "\n",
    "tr_loss_buff = 0\n",
    "te_loss_buff = 0\n",
    "min_iter = 0\n",
    "\n",
    "mb_div = 2\n",
    "mb_idx = int(len(snp_train)/mb_div)\n",
    "s = np.arange(len(snp_train))\n",
    "\n",
    "for i in range(5001):\n",
    "    np.random.shuffle(s)\n",
    "    snp_train = snp_train[s]\n",
    "    gx_train = gx_train[s]\n",
    "    \n",
    "    for mb in range(mb_div):\n",
    "        dsnp_train = snp_train[mb*mb_idx:(mb+1)*mb_idx]\n",
    "        dgx_train = gx_train[mb*mb_idx:(mb+1)*mb_idx]\n",
    "        \n",
    "        optimizer.zero_grad()\n",
    "        tr_loss, output = model(dsnp_train, dgx_train)\n",
    "        tr_loss.backward()\n",
    "        optimizer.step()\n",
    "    \n",
    "    if i%100==0:\n",
    "        tr_loss, output = model(snp_train, gx_train)\n",
    "        te_loss, out_test = model(snp_test, gx_test)\n",
    "        \n",
    "        tr_loss_list.append(tr_loss.cpu().item())\n",
    "        te_loss_list.append(te_loss.cpu().item())\n",
    "        \n",
    "    if i%100==0:\n",
    "        print('iteration :', '%d/5000'%i, ' -  train loss :', \\\n",
    "              np.round(tr_loss.cpu().item(),3), '/  ', \\\n",
    "              'test loss :', np.round(te_loss.cpu().item(), 3))\n",
    "        \n",
    "        if te_loss_buff==0: te_loss_buff = te_loss.cpu().item(); continue\n",
    "        \n",
    "        if te_loss_buff>=te_loss.cpu().item():\n",
    "            min_iter = i\n",
    "            te_loss_buff = te_loss.cpu().item()\n",
    "            tr_loss_buff = tr_loss.cpu().item()\n",
    "            weight = model.fc1.weight.cpu().detach().numpy().reshape(-1)"
   ]
  },
  {
   "cell_type": "code",
   "execution_count": 5,
   "metadata": {},
   "outputs": [
    {
     "name": "stdout",
     "output_type": "stream",
     "text": [
      "189 84\n"
     ]
    },
    {
     "data": {
      "image/png": "[encoded data removed]",
      "text/plain": [
       "<Figure size 432x288 with 1 Axes>"
      ]
     },
     "metadata": {
      "needs_background": "light"
     },
     "output_type": "display_data"
    }
   ],
   "source": [
    "print(np.sum(weight>0.0001), np.sum(weight<-0.0001))\n",
    "plt.title('[Trial%d]model%d_gene%d_weight.png'%(trial_num, model_num, gene_num), fontsize=14)\n",
    "plt.plot(weight,'.')\n",
    "plt.xlabel('SNP index', fontsize=13)\n",
    "plt.ylabel('weight', fontsize=13)\n",
    "plt.savefig('../img/trial%d/gene%d/weight_model%d_k%d.png'%(trial_num, gene_num, model_num, k_num))\n",
    "plt.show()"
   ]
  }
 ],
 "metadata": {
  "kernelspec": {
   "display_name": "Python 3",
   "language": "python",
   "name": "python3"
  },
  "language_info": {
   "codemirror_mode": {
    "name": "ipython",
    "version": 3
   },
   "file_extension": ".py",
   "mimetype": "text/x-python",
   "name": "python",
   "nbconvert_exporter": "python",
   "pygments_lexer": "ipython3",
   "version": "3.7.4"
  }
 },
 "nbformat": 4,
 "nbformat_minor": 2
}
