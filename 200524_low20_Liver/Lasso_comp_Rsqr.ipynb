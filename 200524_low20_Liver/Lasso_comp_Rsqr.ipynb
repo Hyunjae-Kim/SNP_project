{
 "cells": [
  {
   "cell_type": "code",
   "execution_count": 1,
   "metadata": {},
   "outputs": [],
   "source": [
    "import os\n",
    "import numpy as np\n",
    "import json\n",
    "import matplotlib.pyplot as plt\n",
    "import pandas as pd\n",
    "from scipy.stats import pearsonr as pearr"
   ]
  },
  {
   "cell_type": "code",
   "execution_count": 2,
   "metadata": {},
   "outputs": [],
   "source": [
    "trial_num = 2\n",
    "avg_rsqr_list = []\n",
    "for m in range(6):\n",
    "    model_num = m+1\n",
    "    tissue_num = 27\n",
    "\n",
    "    ensg_name = json.load(open('whole_ensg2name.json'))\n",
    "    name_rsqr = json.load(open('top10_name2rsqr.json'))\n",
    "\n",
    "    gene_data_name = 'UTMOST_top10_Liver'\n",
    "    gene_list = os.listdir('../%s/'%gene_data_name)\n",
    "\n",
    "    r_list = []\n",
    "    r_ref_list = []\n",
    "    for g in range(len(gene_list)):\n",
    "        gene_num = g+1\n",
    "        gene_name = gene_list[g]\n",
    "        gene_real_name = ensg_name[gene_name]\n",
    "        gene_r_score = name_rsqr[gene_real_name]\n",
    "        r_ref_list.append(gene_r_score)\n",
    "\n",
    "        GX_observed = np.array([])\n",
    "        GX_predicted = np.array([])\n",
    "\n",
    "        for k in range(5):\n",
    "            k_num = k+1\n",
    "\n",
    "            try:\n",
    "                SNP2_tr = np.load('npy/trial%d/gene%d/model%d/%dtissue_trSNP2_k%d.npy'\\\n",
    "                                  %(trial_num, gene_num, model_num, tissue_num, k_num))\n",
    "                SNP2_te = np.load('npy/trial%d/gene%d/model%d/%dtissue_teSNP2_k%d.npy'\\\n",
    "                                  %(trial_num, gene_num, model_num, tissue_num, k_num))\n",
    "            except FileNotFoundError:\n",
    "                print('%d _ last saved snp2 loaded.'%gene_num)\n",
    "                SNP2_tr = np.load('npy/trial%d/gene%d/model%d/%dtissue_trSNP2_k%d_last.npy'\\\n",
    "                                  %(trial_num, gene_num, model_num, tissue_num, k_num))\n",
    "                SNP2_te = np.load('npy/trial%d/gene%d/model%d/%dtissue_teSNP2_k%d_last.npy'\\\n",
    "                                  %(trial_num, gene_num, model_num, tissue_num, k_num))\n",
    "\n",
    "            GX_tr = np.load('npy/trial%d/gene%d/model%d/%dtissue_trGX_k%d.npy'\\\n",
    "                            %(trial_num, gene_num, model_num, tissue_num, k_num))\n",
    "            GX_te = np.load('npy/trial%d/gene%d/model%d/%dtissue_teGX_k%d.npy'\\\n",
    "                            %(trial_num, gene_num, model_num, tissue_num, k_num))\n",
    "\n",
    "            GX_observed = np.append(GX_observed, np.reshape(GX_te, -1))\n",
    "            GX_predicted = np.append(GX_predicted, np.reshape(SNP2_te, -1))\n",
    "        R_, p = pearr(GX_observed, GX_predicted)\n",
    "        R2 = R_**2\n",
    "\n",
    "        r_list.append(R2)\n",
    "    avg_r = np.mean(r_list)\n",
    "\n",
    "    avg_rsqr_list.append(avg_r)\n",
    "        "
   ]
  },
  {
   "cell_type": "code",
   "execution_count": 4,
   "metadata": {},
   "outputs": [
    {
     "data": {
      "image/png": "[encoded data removed]",
      "text/plain": [
       "<Figure size 432x288 with 1 Axes>"
      ]
     },
     "metadata": {
      "needs_background": "light"
     },
     "output_type": "display_data"
    }
   ],
   "source": [
    "plt.title('UTMOST vs Trial%d'%trial_num, fontsize=14)\n",
    "plt.bar(np.arange(6), avg_rsqr_list, color='r', width=0.3, label='Model')\n",
    "plt.plot([-1,6],[avg_utmost, avg_utmost], 'b--', alpha=0.7, label='UTMOST')\n",
    "plt.xticks(np.arange(6), [0.003, 0.03, 0.1, 0.3, 0.5, 1])\n",
    "plt.xlabel('Lasso coefficient', fontsize=13)\n",
    "plt.ylabel('Average R square', fontsize=13)\n",
    "plt.ylim(0, 0.8)\n",
    "plt.xlim(-0.5,5.5)\n",
    "plt.legend()\n",
    "plt.savefig('img/trial%d/avgrsqr_lasso.png'%trial_num)\n",
    "plt.show()"
   ]
  },
  {
   "cell_type": "code",
   "execution_count": null,
   "metadata": {},
   "outputs": [],
   "source": []
  }
 ],
 "metadata": {
  "kernelspec": {
   "display_name": "Python 3",
   "language": "python",
   "name": "python3"
  },
  "language_info": {
   "codemirror_mode": {
    "name": "ipython",
    "version": 3
   },
   "file_extension": ".py",
   "mimetype": "text/x-python",
   "name": "python",
   "nbconvert_exporter": "python",
   "pygments_lexer": "ipython3",
   "version": "3.7.4"
  }
 },
 "nbformat": 4,
 "nbformat_minor": 2
}
