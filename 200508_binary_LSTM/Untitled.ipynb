{
 "cells": [
  {
   "cell_type": "code",
   "execution_count": 1,
   "metadata": {},
   "outputs": [],
   "source": [
    "import os\n",
    "import time\n",
    "import module\n",
    "import numpy as np\n",
    "import matplotlib.pyplot as plt\n",
    "from model1 import Model\n",
    "\n",
    "import torch\n",
    "import torch.nn as nn\n",
    "import torch.nn.functional as F\n",
    "import torch.utils as utils\n",
    "import torch.nn.init as init\n",
    "\n"
   ]
  },
  {
   "cell_type": "code",
   "execution_count": 2,
   "metadata": {},
   "outputs": [
    {
     "name": "stdout",
     "output_type": "stream",
     "text": [
      "\n",
      "\n",
      "[Gene 3] Model 1 ( tissue 39 ) - 3/5 fold data\n",
      "Option : 100 input length   //  50 hidden length  //  3 layers\n"
     ]
    }
   ],
   "source": [
    "trial_num = 1\n",
    "gene_num = 3\n",
    "tissue_num = 39\n",
    "model_num = 1\n",
    "k_num = 3\n",
    "\n",
    "m_count = 1\n",
    "for p1 in [100]:\n",
    "    for p2 in [50]:\n",
    "        for p3 in [1,2,3]:\n",
    "            m_count += 1\n",
    "            input_size = p1\n",
    "            hidden_size = p2\n",
    "            num_layers = p3\n",
    "            if m_count==model_num:\n",
    "                break\n",
    "        if m_count==model_num:\n",
    "            break\n",
    "    if m_count==model_num:\n",
    "        break\n",
    "\n",
    "gene_list = ['ENSG00000206535.3', 'ENSG00000217442.3', 'ENSG00000225972.1', 'ENSG00000007923.11']\n",
    "gene_name = gene_list[gene_num-1]\n",
    "\n",
    "print('\\n\\n[Gene %d] Model %d ( tissue %d ) - %d/5 fold data'%(gene_num, model_num, tissue_num, k_num))\n",
    "print('Option : %d input length   //  %d hidden length  //  %d layers'%(input_size, hidden_size, num_layers))"
   ]
  },
  {
   "cell_type": "code",
   "execution_count": 3,
   "metadata": {},
   "outputs": [
    {
     "name": "stdout",
     "output_type": "stream",
     "text": [
      "(620, 12941) (620, 53)\n",
      "(89, 12941) (22, 12941) (89, 1) (22, 1)\n",
      "\n",
      "Data shape @@@@@@\n",
      "Train data :  torch.Size([89, 12941])  /  torch.Size([22, 12941])\n",
      "Test data :  torch.Size([89, 1])  /  torch.Size([22, 1])\n",
      "\n",
      "\n"
     ]
    }
   ],
   "source": [
    "device = torch.device('cuda' if torch.cuda.is_available() else 'cpu')\n",
    "\n",
    "start_time = time.time()\n",
    "np.random.seed(37)\n",
    "torch.manual_seed(37)\n",
    "torch.cuda.manual_seed_all(37)\n",
    "torch.backends.cudnn.deterministic = True\n",
    "\n",
    "snp, gx = module.load_data(gene_name, tissue_num, proc=True)\n",
    "\n",
    "snp_train, snp_test, gx_train, gx_test = module.k_fold_data(snp, gx, 5, k_num)\n",
    "print(np.shape(snp_train), np.shape(snp_test), np.shape(gx_train), np.shape(gx_test))\n",
    "\n",
    "snp_train = torch.Tensor(snp_train).to(device)\n",
    "snp_test = torch.Tensor(snp_test).to(device)\n",
    "gx_train = torch.Tensor(gx_train).to(device)\n",
    "gx_test = torch.Tensor(gx_test).to(device)\n",
    "\n",
    "print('\\nData shape @@@@@@')\n",
    "print('Train data : ', np.shape(snp_train),' / ', np.shape(snp_test))\n",
    "print('Test data : ', np.shape(gx_train), ' / ', np.shape(gx_test))\n",
    "print('\\n')"
   ]
  }
 ],
 "metadata": {
  "kernelspec": {
   "display_name": "Python 3",
   "language": "python",
   "name": "python3"
  },
  "language_info": {
   "codemirror_mode": {
    "name": "ipython",
    "version": 3
   },
   "file_extension": ".py",
   "mimetype": "text/x-python",
   "name": "python",
   "nbconvert_exporter": "python",
   "pygments_lexer": "ipython3",
   "version": "3.7.4"
  }
 },
 "nbformat": 4,
 "nbformat_minor": 2
}
