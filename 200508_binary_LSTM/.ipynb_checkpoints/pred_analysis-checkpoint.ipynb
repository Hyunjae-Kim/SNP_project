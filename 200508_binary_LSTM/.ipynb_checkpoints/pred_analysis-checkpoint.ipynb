{
 "cells": [
  {
   "cell_type": "code",
   "execution_count": 1,
   "metadata": {},
   "outputs": [],
   "source": [
    "import numpy as np\n",
    "import matplotlib.pyplot as plt\n",
    "import pandas as pd\n",
    "from scipy.stats import pearsonr as pearr"
   ]
  },
  {
   "cell_type": "code",
   "execution_count": 2,
   "metadata": {},
   "outputs": [
    {
     "name": "stdout",
     "output_type": "stream",
     "text": [
      "tissue 1 - data length : (491,)\n",
      "Variance  /  mean  :  11.9541  /  0.0000\n",
      "Max / Min value : 20.7391 / -0.9900\n",
      "\n"
     ]
    },
    {
     "data": {
      "image/png": "[encoded data removed]",
      "text/plain": [
       "<Figure size 432x288 with 1 Axes>"
      ]
     },
     "metadata": {
      "needs_background": "light"
     },
     "output_type": "display_data"
    }
   ],
   "source": [
    "gene = 3\n",
    "trial_num = 1\n",
    "model_num = 1\n",
    "\n",
    "for g in range(gene-1, gene):\n",
    "    gene_num = g+1\n",
    "    \n",
    "    for t in range(1):\n",
    "        tissue_num = 1\n",
    "        GX_observed = np.array([])\n",
    "\n",
    "        for k in range(5):\n",
    "            k_num = k+1\n",
    "            GX_te = np.load('npy/trial%d/gene%d/model%d/%dtissue_teGX_k%d.npy'\\\n",
    "                            %(trial_num, gene_num, model_num, tissue_num, k_num))\n",
    "            GX_observed = np.append(GX_observed, np.reshape(GX_te, -1))\n",
    "        \n",
    "        \n",
    "        GX_var = np.var(GX_observed)\n",
    "        GX_mean = np.mean(GX_observed)\n",
    "        print('tissue %d - data length :'%tissue_num, np.shape(GX_observed))\n",
    "        print('Variance  /  mean  :  %.4f  /  %.4f'%(GX_var, GX_mean))\n",
    "        print('Max / Min value : %.4f / %.4f\\n'%(np.max(GX_observed), np.min(GX_observed)))\n",
    "        plt.hist(GX_observed, bins=100)\n",
    "        plt.show()"
   ]
  },
  {
   "cell_type": "code",
   "execution_count": 5,
   "metadata": {},
   "outputs": [
    {
     "name": "stdout",
     "output_type": "stream",
     "text": [
      "0 (491,) (491,)\n",
      "0.2700847999296238\n",
      "1 (491,) (491,)\n",
      "0.3267843143213115\n",
      "2 (491,) (491,)\n",
      "0.2664188755246342\n"
     ]
    }
   ],
   "source": [
    "gene_num = 3\n",
    "for m in range(3):\n",
    "    model_num = m+1\n",
    "    tissue_num = 1\n",
    "\n",
    "    GX_observed = np.array([])\n",
    "    GX_predicted = np.array([])\n",
    "\n",
    "    for k in range(5):\n",
    "        k_num = k+1\n",
    "\n",
    "        try:\n",
    "            SNP2_tr = np.load('npy/trial%d/gene%d/model%d/%dtissue_trSNP2_k%d.npy'\\\n",
    "                              %(trial_num, gene_num, model_num, tissue_num, k_num))\n",
    "            SNP2_te = np.load('npy/trial%d/gene%d/model%d/%dtissue_teSNP2_k%d.npy'\\\n",
    "                              %(trial_num, gene_num, model_num, tissue_num, k_num))\n",
    "        except FileNotFoundError:\n",
    "#                     print('last saved snp2 loaded.')\n",
    "            SNP2_tr = np.load('npy/trial%d/gene%d/model%d/%dtissue_trSNP2_k%d_last.npy'\\\n",
    "                              %(trial_num, gene_num, model_num, tissue_num, k_num))\n",
    "            SNP2_te = np.load('npy/trial%d/gene%d/model%d/%dtissue_teSNP2_k%d_last.npy'\\\n",
    "                              %(trial_num, gene_num, model_num, tissue_num, k_num))\n",
    "\n",
    "        GX_tr = np.load('npy/trial%d/gene%d/model%d/%dtissue_trGX_k%d.npy'\\\n",
    "                        %(trial_num, gene_num, model_num, tissue_num, k_num))    \n",
    "        GX_te = np.load('npy/trial%d/gene%d/model%d/%dtissue_teGX_k%d.npy'\\\n",
    "                        %(trial_num, gene_num, model_num, tissue_num, k_num))\n",
    "\n",
    "        GX_observed = np.append(GX_observed, np.reshape(GX_te, -1))\n",
    "        GX_predicted = np.append(GX_predicted, np.reshape(SNP2_te, -1))\n",
    "        \n",
    "    print(m, np.shape(GX_observed), np.shape(GX_predicted))\n",
    "    R_, p = pearr(GX_observed, GX_predicted)\n",
    "    R2 = R_**2\n",
    "    print(R2)\n"
   ]
  },
  {
   "cell_type": "code",
   "execution_count": 9,
   "metadata": {},
   "outputs": [
    {
     "name": "stdout",
     "output_type": "stream",
     "text": [
      "Trial: 4   model : 7   tissue : 1\n",
      "0.29449352100670445\n"
     ]
    },
    {
     "data": {
      "image/png": "[encoded data removed]",
      "text/plain": [
       "<Figure size 432x288 with 1 Axes>"
      ]
     },
     "metadata": {
      "needs_background": "light"
     },
     "output_type": "display_data"
    },
    {
     "name": "stdout",
     "output_type": "stream",
     "text": [
      "3.763226044882097e-09 0.25884105875147334\n",
      "3.45746536544547 3.869675494642751\n"
     ]
    }
   ],
   "source": [
    "trial = 4\n",
    "tissue = 1\n",
    "\n",
    "col_list = ['r*', 'b*', 'y*', 'g*', 'k*']\n",
    "for i1 in range(trial-1, trial):#np.shape(R2_max_arg)[0]):\n",
    "    for i2 in range(tissue-1, tissue):#np.shape(R2_max_arg)[1]):\n",
    "        trial_num = i1+1\n",
    "        model_num = int(R2_max_arg[i1][i2] + 1)\n",
    "        tissue_num = i2 + 1\n",
    "        print('Trial:',trial_num, '  model :',model_num, '  tissue :',tissue_num)\n",
    "        \n",
    "        GX_observed = np.array([])\n",
    "        GX_predicted = np.array([])\n",
    "\n",
    "        for k in range(5):\n",
    "            k_num = k+1\n",
    "            try:\n",
    "                SNP2_tr = np.load('npy/trial%d/gene%d/model%d/%dtissue_trSNP2_k%d.npy'\\\n",
    "                                  %(trial_num, gene_num, model_num, tissue_num, k_num))\n",
    "                SNP2_te = np.load('npy/trial%d/gene%d/model%d/%dtissue_teSNP2_k%d.npy'\\\n",
    "                                  %(trial_num, gene_num, model_num, tissue_num, k_num))\n",
    "            except FileNotFoundError:\n",
    "#                     print('last saved snp2 loaded.')\n",
    "                SNP2_tr = np.load('npy/trial%d/gene%d/model%d/%dtissue_trSNP2_k%d_last.npy'\\\n",
    "                                  %(trial_num, gene_num, model_num, tissue_num, k_num))\n",
    "                SNP2_te = np.load('npy/trial%d/gene%d/model%d/%dtissue_teSNP2_k%d_last.npy'\\\n",
    "                                  %(trial_num, gene_num, model_num, tissue_num, k_num))\n",
    "\n",
    "            GX_tr = np.load('npy/trial%d/gene%d/model%d/%dtissue_trGX_k%d.npy'\\\n",
    "                            %(trial_num, gene_num, model_num, tissue_num, k_num))    \n",
    "            GX_te = np.load('npy/trial%d/gene%d/model%d/%dtissue_teGX_k%d.npy'\\\n",
    "                            %(trial_num, gene_num, model_num, tissue_num, k_num))\n",
    "\n",
    "            dis_set = np.zeros((len(SNP2_te), len(SNP2_tr)))\n",
    "            for k1 in range(len(SNP2_te)):\n",
    "                for k2 in range(len(SNP2_tr)):\n",
    "                    dis_set[k1][k2] = np.sum((SNP2_te[k1]-SNP2_tr[k2])**2)\n",
    "\n",
    "            closest_arg = np.argmin(dis_set, axis=1)\n",
    "\n",
    "            GX_observed = np.append(GX_observed, np.reshape(GX_te, -1))\n",
    "            GX_predicted = np.append(GX_predicted, np.reshape(GX_tr[closest_arg], -1))\n",
    "            plt.plot(np.reshape(GX_tr[closest_arg], -1), np.reshape(GX_te, -1), col_list[k])\n",
    "            \n",
    "#             GX_predicted = np.random.random(np.shape(GX_predicted))\n",
    "        R_, p = pearr(GX_observed, GX_predicted)\n",
    "        R2 = R_**2\n",
    "        print(R2)\n",
    "        \n",
    "        plt.plot([-2,20],[-2,20],'k')\n",
    "#         plt.xlim(-1,-0.9)\n",
    "#         plt.ylim(-1,-0.9)\n",
    "#         plt.plot(GX_predicted, GX_observed, 'r*')\n",
    "        plt.title('Tissue %d  -  R square : %.4f'%(tissue_num, R2), fontsize=13)\n",
    "        plt.xlabel('predicted expression', fontsize=12)\n",
    "        plt.ylabel('Observed expression',fontsize = 12)\n",
    "        plt.savefig('img/trial%d/gene%d/R2_plot/tissue%d_model%d.png'\\\n",
    "                    %(trial_num, gene_num, tissue_num, model_num))\n",
    "        plt.show()\n",
    "\n",
    "print(np.mean(GX_observed), np.mean(GX_predicted))\n",
    "print(np.sqrt(np.var(GX_observed)), np.sqrt(np.var(GX_predicted)))"
   ]
  },
  {
   "cell_type": "code",
   "execution_count": null,
   "metadata": {},
   "outputs": [],
   "source": [
    "dd = np.where(GX_predicted<2)[0]\n",
    "aa = GX_observed[dd]\n",
    "bb = GX_predicted[dd]\n",
    "# cc = np.where(aa<2)[0]\n",
    "\n",
    "# aaa = aa[cc]\n",
    "# bbb = bb[cc]\n",
    "# plt.plot(bbb,aaa, 'r*')\n",
    "# plt.show()\n",
    "# R_, p = pearr(aaa, bbb)\n",
    "# print(R_**2)\n",
    "\n",
    "plt.plot(bb,aa, 'r*')\n",
    "plt.show()\n",
    "R_, p = pearr(aa, bb)\n",
    "print(R_**2)"
   ]
  },
  {
   "cell_type": "code",
   "execution_count": 24,
   "metadata": {},
   "outputs": [
    {
     "name": "stdout",
     "output_type": "stream",
     "text": [
      "0.0041097694883691395\n",
      "0.06312698330948582\n",
      "4.606013423389665e-10\n"
     ]
    }
   ],
   "source": [
    "np.random.seed(37)\n",
    "\n",
    "r_list = []\n",
    "for i in range(10000):\n",
    "    a = np.random.uniform(-1,1,25)\n",
    "    b = np.random.uniform(-1,1,25)*10\n",
    "    R2, p = pearr(a, b)\n",
    "    \n",
    "    r_list.append(R2**2)\n",
    "#     if R2**2>0.5:\n",
    "#         break\n",
    "print(np.mean(r_list))\n",
    "print(np.max(r_list))\n",
    "print(np.min(r_list))"
   ]
  }
 ],
 "metadata": {
  "kernelspec": {
   "display_name": "Python 3",
   "language": "python",
   "name": "python3"
  },
  "language_info": {
   "codemirror_mode": {
    "name": "ipython",
    "version": 3
   },
   "file_extension": ".py",
   "mimetype": "text/x-python",
   "name": "python",
   "nbconvert_exporter": "python",
   "pygments_lexer": "ipython3",
   "version": "3.7.4"
  }
 },
 "nbformat": 4,
 "nbformat_minor": 2
}
