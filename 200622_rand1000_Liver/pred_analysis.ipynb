{
 "cells": [
  {
   "cell_type": "code",
   "execution_count": 2,
   "metadata": {},
   "outputs": [],
   "source": [
    "import os\n",
    "import numpy as np\n",
    "import json\n",
    "import matplotlib.pyplot as plt\n",
    "import pandas as pd\n",
    "from scipy.stats import pearsonr as pearr"
   ]
  },
  {
   "cell_type": "code",
   "execution_count": 17,
   "metadata": {
    "scrolled": true
   },
   "outputs": [
    {
     "name": "stdout",
     "output_type": "stream",
     "text": [
      "gene 65 // k3 _ last saved snp2 loaded. //  1\n",
      "gene 69 // k1 _ last saved snp2 loaded. //  3\n",
      "gene 69 // k4 _ last saved snp2 loaded. //  3\n",
      "gene 69 // k5 _ last saved snp2 loaded. //  3\n",
      "gene 2 // k4 _ last saved snp2 loaded. //  5\n",
      "gene 32 // k2 _ last saved snp2 loaded. //  6\n",
      "gene 32 // k3 _ last saved snp2 loaded. //  6\n",
      "gene 32 // k5 _ last saved snp2 loaded. //  6\n",
      "gene 95 // k1 _ last saved snp2 loaded. //  7\n",
      "gene 95 // k4 _ last saved snp2 loaded. //  7\n",
      "gene 95 // k5 _ last saved snp2 loaded. //  7\n",
      "gene 31 // k4 _ last saved snp2 loaded. //  9\n",
      "gene 26 // k1 _ last saved snp2 loaded. //  10\n",
      "gene 26 // k2 _ last saved snp2 loaded. //  10\n",
      "gene 26 // k5 _ last saved snp2 loaded. //  10\n",
      "gene 94 // k4 _ last saved snp2 loaded. //  11\n",
      "gene 82 // k2 _ last saved snp2 loaded. //  12\n",
      "gene 82 // k3 _ last saved snp2 loaded. //  12\n",
      "gene 35 // k2 _ last saved snp2 loaded. //  13\n",
      "gene 7 // k5 _ last saved snp2 loaded. //  14\n",
      "gene 13 // k2 _ last saved snp2 loaded. //  16\n",
      "gene 13 // k4 _ last saved snp2 loaded. //  16\n",
      "gene 13 // k5 _ last saved snp2 loaded. //  16\n",
      "gene 73 // k4 _ last saved snp2 loaded. //  21\n",
      "gene 46 // k1 _ last saved snp2 loaded. //  23\n",
      "gene 46 // k3 _ last saved snp2 loaded. //  23\n",
      "gene 16 // k1 _ last saved snp2 loaded. //  24\n",
      "gene 16 // k4 _ last saved snp2 loaded. //  24\n",
      "gene 50 // k5 _ last saved snp2 loaded. //  27\n",
      "gene 39 // k2 _ last saved snp2 loaded. //  29\n",
      "gene 39 // k4 _ last saved snp2 loaded. //  29\n",
      "gene 17 // k1 _ last saved snp2 loaded. //  32\n",
      "gene 17 // k2 _ last saved snp2 loaded. //  32\n",
      "gene 96 // k1 _ last saved snp2 loaded. //  33\n",
      "gene 96 // k4 _ last saved snp2 loaded. //  33\n",
      "gene 96 // k5 _ last saved snp2 loaded. //  33\n",
      "gene 33 // k1 _ last saved snp2 loaded. //  34\n",
      "gene 33 // k2 _ last saved snp2 loaded. //  34\n",
      "gene 33 // k5 _ last saved snp2 loaded. //  34\n",
      "gene 60 // k4 _ last saved snp2 loaded. //  35\n",
      "gene 60 // k5 _ last saved snp2 loaded. //  35\n",
      "gene 93 // k2 _ last saved snp2 loaded. //  36\n",
      "gene 93 // k3 _ last saved snp2 loaded. //  36\n",
      "gene 62 // k2 _ last saved snp2 loaded. //  41\n",
      "gene 41 // k5 _ last saved snp2 loaded. //  42\n",
      "gene 44 // k1 _ last saved snp2 loaded. //  43\n",
      "gene 24 // k3 _ last saved snp2 loaded. //  44\n",
      "gene 24 // k4 _ last saved snp2 loaded. //  44\n",
      "gene 24 // k5 _ last saved snp2 loaded. //  44\n",
      "gene 40 // k1 _ last saved snp2 loaded. //  45\n",
      "gene 58 // k3 _ last saved snp2 loaded. //  47\n",
      "gene 58 // k4 _ last saved snp2 loaded. //  47\n",
      "gene 38 // k5 _ last saved snp2 loaded. //  48\n",
      "gene 53 // k2 _ last saved snp2 loaded. //  50\n",
      "gene 15 // k4 _ last saved snp2 loaded. //  51\n",
      "gene 59 // k4 _ last saved snp2 loaded. //  52\n",
      "gene 59 // k5 _ last saved snp2 loaded. //  52\n",
      "gene 89 // k3 _ last saved snp2 loaded. //  53\n",
      "gene 19 // k1 _ last saved snp2 loaded. //  56\n",
      "gene 19 // k2 _ last saved snp2 loaded. //  56\n",
      "gene 19 // k4 _ last saved snp2 loaded. //  56\n",
      "gene 19 // k5 _ last saved snp2 loaded. //  56\n",
      "gene 87 // k1 _ last saved snp2 loaded. //  57\n",
      "gene 85 // k1 _ last saved snp2 loaded. //  58\n",
      "gene 85 // k4 _ last saved snp2 loaded. //  58\n",
      "gene 91 // k1 _ last saved snp2 loaded. //  59\n",
      "gene 91 // k3 _ last saved snp2 loaded. //  59\n",
      "gene 91 // k4 _ last saved snp2 loaded. //  59\n",
      "gene 91 // k5 _ last saved snp2 loaded. //  59\n",
      "gene 90 // k1 _ last saved snp2 loaded. //  60\n",
      "gene 90 // k2 _ last saved snp2 loaded. //  60\n",
      "gene 90 // k3 _ last saved snp2 loaded. //  60\n",
      "gene 100 // k3 _ last saved snp2 loaded. //  61\n",
      "[76]\n",
      "FAM118A - UTMOST R sqr : 0.70042\n"
     ]
    },
    {
     "data": {
      "image/png": "[encoded data removed]",
      "text/plain": [
       "<Figure size 432x288 with 1 Axes>"
      ]
     },
     "metadata": {
      "needs_background": "light"
     },
     "output_type": "display_data"
    },
    {
     "name": "stdout",
     "output_type": "stream",
     "text": [
      "gene 8 // k4 _ last saved snp2 loaded. //  65\n",
      "gene 8 // k5 _ last saved snp2 loaded. //  65\n",
      "gene 49 // k2 _ last saved snp2 loaded. //  66\n",
      "gene 49 // k3 _ last saved snp2 loaded. //  66\n",
      "gene 49 // k5 _ last saved snp2 loaded. //  66\n",
      "gene 43 // k2 _ last saved snp2 loaded. //  70\n",
      "gene 43 // k4 _ last saved snp2 loaded. //  70\n",
      "gene 79 // k1 _ last saved snp2 loaded. //  71\n",
      "gene 54 // k4 _ last saved snp2 loaded. //  72\n",
      "gene 1 // k4 _ last saved snp2 loaded. //  75\n",
      "gene 75 // k1 _ last saved snp2 loaded. //  76\n",
      "gene 75 // k4 _ last saved snp2 loaded. //  76\n",
      "gene 75 // k5 _ last saved snp2 loaded. //  76\n",
      "gene 3 // k2 _ last saved snp2 loaded. //  79\n",
      "gene 68 // k2 _ last saved snp2 loaded. //  83\n",
      "gene 71 // k2 _ last saved snp2 loaded. //  84\n",
      "gene 10 // k4 _ last saved snp2 loaded. //  85\n",
      "gene 10 // k5 _ last saved snp2 loaded. //  85\n",
      "gene 64 // k1 _ last saved snp2 loaded. //  86\n",
      "gene 64 // k5 _ last saved snp2 loaded. //  86\n",
      "gene 56 // k2 _ last saved snp2 loaded. //  87\n",
      "gene 56 // k4 _ last saved snp2 loaded. //  87\n",
      "gene 56 // k5 _ last saved snp2 loaded. //  87\n",
      "gene 61 // k1 _ last saved snp2 loaded. //  90\n",
      "gene 61 // k5 _ last saved snp2 loaded. //  90\n",
      "gene 18 // k1 _ last saved snp2 loaded. //  91\n",
      "gene 86 // k1 _ last saved snp2 loaded. //  93\n",
      "gene 86 // k5 _ last saved snp2 loaded. //  93\n",
      "gene 42 // k5 _ last saved snp2 loaded. //  95\n",
      "gene 11 // k1 _ last saved snp2 loaded. //  96\n",
      "gene 11 // k5 _ last saved snp2 loaded. //  96\n",
      "gene 6 // k4 _ last saved snp2 loaded. //  97\n",
      "gene 21 // k4 _ last saved snp2 loaded. //  99\n",
      "gene 4 // k5 _ last saved snp2 loaded. //  100\n"
     ]
    }
   ],
   "source": [
    "trial_num = 1\n",
    "model_num = 1\n",
    "tissue_num = 27\n",
    "check_t_num = 27\n",
    "\n",
    "ensg_name = json.load(open('whole_ensg2name.json'))\n",
    "name_rsqr = json.load(open('rand1000_name2rsqr.json'))\n",
    "\n",
    "gene_data_name = 'UTMOST_rand1000'\n",
    "gene_list = os.listdir('../%s/'%gene_data_name)\n",
    "\n",
    "# gene_idx_match = np.load('../ahn_list.npy')\n",
    "\n",
    "r_list = []\n",
    "r_ref_list = []\n",
    "gene_name_list = []\n",
    "for g in range(100):\n",
    "    gene_num = g+1\n",
    "    gene_name = gene_list[g]\n",
    "\n",
    "#     cor_idx = np.where(gene_idx_match==gene_name)[0]\n",
    "#     gene_num = cor_idx +1\n",
    "#     gene_name = gene_list[g]\n",
    "\n",
    "    gene_real_name = ensg_name[gene_name]\n",
    "    gene_r_score = name_rsqr[gene_real_name]\n",
    "    r_ref_list.append(gene_r_score)\n",
    "    gene_name_list.append(gene_real_name)\n",
    "    \n",
    "    GX_observed = np.array([])\n",
    "    GX_predicted = np.array([])\n",
    "    for k in range(5):\n",
    "        k_num = k+1\n",
    "\n",
    "        try:\n",
    "            SNP2_tr = np.load('npy/trial%d/gene%d/model%d/%dtissue_trSNP2_k%d.npy'\\\n",
    "                              %(trial_num, gene_num, model_num, tissue_num, k_num))\n",
    "            SNP2_te = np.load('npy/trial%d/gene%d/model%d/%dtissue_teSNP2_k%d.npy'\\\n",
    "                              %(trial_num, gene_num, model_num, tissue_num, k_num))\n",
    "        except FileNotFoundError:\n",
    "            print('gene %d // k%d _ last saved snp2 loaded.'%(gene_num, k+1), '// ', g+1)\n",
    "            SNP2_tr = np.load('npy/trial%d/gene%d/model%d/%dtissue_trSNP2_k%d_last.npy'\\\n",
    "                              %(trial_num, gene_num, model_num, tissue_num, k_num))\n",
    "            SNP2_te = np.load('npy/trial%d/gene%d/model%d/%dtissue_teSNP2_k%d_last.npy'\\\n",
    "                              %(trial_num, gene_num, model_num, tissue_num, k_num))\n",
    "        GX_tr = np.load('npy/trial%d/gene%d/model%d/%dtissue_trGX_k%d.npy'\\\n",
    "                        %(trial_num, gene_num, model_num, tissue_num, k_num))\n",
    "        GX_te = np.load('npy/trial%d/gene%d/model%d/%dtissue_teGX_k%d.npy'\\\n",
    "                        %(trial_num, gene_num, model_num, tissue_num, k_num))\n",
    "\n",
    "        GX_observed = np.append(GX_observed, np.reshape(GX_te, -1))\n",
    "        GX_predicted = np.append(GX_predicted, np.reshape(SNP2_te, -1))\n",
    "    R_, p = pearr(GX_observed, GX_predicted)\n",
    "    R2 = R_**2\n",
    "\n",
    "    r_list.append(R2)\n",
    "    \n",
    "    if g==61:\n",
    "        print(gene_num)\n",
    "        print('%s - UTMOST R sqr : %.5f'%(gene_real_name, gene_r_score))\n",
    "        plt.plot(GX_predicted, GX_observed, 'r*')\n",
    "        plt.title('[%d]%s : %.5f'%(gene_num, gene_real_name, R2), fontsize=14)\n",
    "        plt.ylabel('Normalized Observed expression', fontsize=13)\n",
    "        plt.xlabel('Predicted expression', fontsize=13)\n",
    "#         plt.savefig('img/trial%d/Scatter_model%d_gene%d.png'%(trial_num, model_num, gene_num))\n",
    "        plt.show()"
   ]
  },
  {
   "cell_type": "code",
   "execution_count": 18,
   "metadata": {},
   "outputs": [
    {
     "name": "stdout",
     "output_type": "stream",
     "text": [
      "0.1103421726847836 0.18043367929888782\n"
     ]
    },
    {
     "data": {
      "image/png": "[encoded data removed]",
      "text/plain": [
       "<Figure size 432x288 with 1 Axes>"
      ]
     },
     "metadata": {
      "needs_background": "light"
     },
     "output_type": "display_data"
    }
   ],
   "source": [
    "sort_idx = np.argsort(r_ref_list)\n",
    "avg_model = np.mean(np.array(r_list)[sort_idx])\n",
    "avg_utmost = np.mean(np.array(r_ref_list)[sort_idx])\n",
    "print(avg_model, avg_utmost)\n",
    "\n",
    "plt.title('UTMOST vs Trial%d (model %d)'%(trial_num, model_num), fontsize=14)\n",
    "plt.plot(np.array(r_list)[sort_idx], 'r.', label='Model')\n",
    "plt.plot(np.array(r_ref_list)[sort_idx], 'b.', label='UTMOST')\n",
    "# plt.plot([-1,101],[avg_model, avg_model], 'r--', alpha=0.7)\n",
    "# plt.plot([-1,101],[avg_utmost, avg_utmost], 'b--', alpha=0.7)\n",
    "# plt.xticks(np.arange(10),np.arange(10)+1)\n",
    "plt.xlabel('Gene index', fontsize=13)\n",
    "plt.ylabel('R square', fontsize=13)\n",
    "plt.legend()\n",
    "# plt.savefig('img/trial%d/vsUTMOST_model%d.png'%(trial_num, model_num))\n",
    "plt.show()"
   ]
  },
  {
   "cell_type": "code",
   "execution_count": null,
   "metadata": {},
   "outputs": [],
   "source": []
  }
 ],
 "metadata": {
  "kernelspec": {
   "display_name": "Python 3",
   "language": "python",
   "name": "python3"
  },
  "language_info": {
   "codemirror_mode": {
    "name": "ipython",
    "version": 3
   },
   "file_extension": ".py",
   "mimetype": "text/x-python",
   "name": "python",
   "nbconvert_exporter": "python",
   "pygments_lexer": "ipython3",
   "version": "3.7.4"
  }
 },
 "nbformat": 4,
 "nbformat_minor": 2
}
