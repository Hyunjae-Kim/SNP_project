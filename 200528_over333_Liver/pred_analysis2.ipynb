{
 "cells": [
  {
   "cell_type": "code",
   "execution_count": 1,
   "metadata": {},
   "outputs": [],
   "source": [
    "import os\n",
    "import numpy as np\n",
    "import json\n",
    "import matplotlib.pyplot as plt\n",
    "import pandas as pd\n",
    "from scipy.stats import pearsonr as pearr"
   ]
  },
  {
   "cell_type": "code",
   "execution_count": 2,
   "metadata": {
    "scrolled": true
   },
   "outputs": [
    {
     "name": "stdout",
     "output_type": "stream",
     "text": [
      "8 _ last saved snp2 loaded.\n",
      "24 _ last saved snp2 loaded.\n",
      "24 _ last saved snp2 loaded.\n",
      "24 _ last saved snp2 loaded.\n",
      "24 _ last saved snp2 loaded.\n",
      "34 _ last saved snp2 loaded.\n",
      "44 _ last saved snp2 loaded.\n",
      "44 _ last saved snp2 loaded.\n",
      "46 _ last saved snp2 loaded.\n",
      "46 _ last saved snp2 loaded.\n",
      "97 _ last saved snp2 loaded.\n",
      "97 _ last saved snp2 loaded.\n",
      "124 _ last saved snp2 loaded.\n",
      "124 _ last saved snp2 loaded.\n"
     ]
    }
   ],
   "source": [
    "trial_num1 = 5\n",
    "model_num1 = 1\n",
    "tissue_num = 27\n",
    "\n",
    "ensg_name = json.load(open('whole_ensg2name.json'))\n",
    "name_rsqr = json.load(open('low200_name2rsqr.json'))\n",
    "\n",
    "gene_data_name = 'UTMOST_low200_Liver'\n",
    "gene_list = os.listdir('../%s/'%gene_data_name)\n",
    "\n",
    "r_ref_list = []\n",
    "for g in range(150):\n",
    "    gene_num = g+1\n",
    "    gene_name = gene_list[g]\n",
    "    gene_real_name = ensg_name[gene_name]\n",
    "    gene_r_score = name_rsqr[gene_real_name]\n",
    "    \n",
    "    GX_observed = np.array([])\n",
    "    GX_predicted = np.array([])\n",
    "\n",
    "    for k in range(5):\n",
    "        k_num = k+1\n",
    "\n",
    "        try:\n",
    "            SNP2_tr = np.load('npy/trial%d/gene%d/model%d/%dtissue_trSNP2_k%d.npy'\\\n",
    "                              %(trial_num1, gene_num, model_num1, tissue_num, k_num))\n",
    "            SNP2_te = np.load('npy/trial%d/gene%d/model%d/%dtissue_teSNP2_k%d.npy'\\\n",
    "                              %(trial_num1, gene_num, model_num1, tissue_num, k_num))\n",
    "        except FileNotFoundError:\n",
    "            print('%d _ last saved snp2 loaded.'%gene_num)\n",
    "            SNP2_tr = np.load('npy/trial%d/gene%d/model%d/%dtissue_trSNP2_k%d_last.npy'\\\n",
    "                              %(trial_num1, gene_num, model_num1, tissue_num, k_num))\n",
    "            SNP2_te = np.load('npy/trial%d/gene%d/model%d/%dtissue_teSNP2_k%d_last.npy'\\\n",
    "                              %(trial_num1, gene_num, model_num1, tissue_num, k_num))\n",
    "\n",
    "        GX_tr = np.load('npy/trial%d/gene%d/model%d/%dtissue_trGX_k%d.npy'\\\n",
    "                        %(trial_num1, gene_num, model_num1, tissue_num, k_num))\n",
    "        GX_te = np.load('npy/trial%d/gene%d/model%d/%dtissue_teGX_k%d.npy'\\\n",
    "                        %(trial_num1, gene_num, model_num1, tissue_num, k_num))\n",
    "\n",
    "        GX_observed = np.append(GX_observed, np.reshape(GX_te, -1))\n",
    "        GX_predicted = np.append(GX_predicted, np.reshape(SNP2_te, -1))\n",
    "    R_, p = pearr(GX_observed, GX_predicted)\n",
    "    R2 = R_**2\n",
    "    \n",
    "    r_ref_list.append(R2)\n",
    "#     if R2>0.1:\n",
    "#         plt.plot(GX_predicted, GX_observed, 'r*')\n",
    "#         plt.title('[%d]%s : %.5f / ref=%.5f'%(gene_num, gene_name, R2, gene_r_score), fontsize=14)\n",
    "#         plt.show()"
   ]
  },
  {
   "cell_type": "code",
   "execution_count": 3,
   "metadata": {},
   "outputs": [
    {
     "name": "stdout",
     "output_type": "stream",
     "text": [
      "36 _ last saved snp2 loaded.\n",
      "36 _ last saved snp2 loaded.\n",
      "36 _ last saved snp2 loaded.\n",
      "48 _ last saved snp2 loaded.\n",
      "48 _ last saved snp2 loaded.\n",
      "81 _ last saved snp2 loaded.\n",
      "135 _ last saved snp2 loaded.\n",
      "142 _ last saved snp2 loaded.\n",
      "142 _ last saved snp2 loaded.\n",
      "145 _ last saved snp2 loaded.\n",
      "145 _ last saved snp2 loaded.\n",
      "145 _ last saved snp2 loaded.\n"
     ]
    }
   ],
   "source": [
    "trial_num = 6\n",
    "model_num = 1\n",
    "tissue_num = 27\n",
    "\n",
    "r_list = []\n",
    "for g in range(150):\n",
    "    gene_num = g+1\n",
    "    gene_name = gene_list[g]\n",
    "    gene_real_name = ensg_name[gene_name]\n",
    "    gene_r_score = name_rsqr[gene_real_name]\n",
    "    \n",
    "    GX_observed = np.array([])\n",
    "    GX_predicted = np.array([])\n",
    "\n",
    "    for k in range(5):\n",
    "        k_num = k+1\n",
    "\n",
    "        try:\n",
    "            SNP2_tr = np.load('npy/trial%d/gene%d/model%d/%dtissue_trSNP2_k%d.npy'\\\n",
    "                              %(trial_num, gene_num, model_num, tissue_num, k_num))\n",
    "            SNP2_te = np.load('npy/trial%d/gene%d/model%d/%dtissue_teSNP2_k%d.npy'\\\n",
    "                              %(trial_num, gene_num, model_num, tissue_num, k_num))\n",
    "        except FileNotFoundError:\n",
    "            print('%d _ last saved snp2 loaded.'%gene_num)\n",
    "            SNP2_tr = np.load('npy/trial%d/gene%d/model%d/%dtissue_trSNP2_k%d_last.npy'\\\n",
    "                              %(trial_num, gene_num, model_num, tissue_num, k_num))\n",
    "            SNP2_te = np.load('npy/trial%d/gene%d/model%d/%dtissue_teSNP2_k%d_last.npy'\\\n",
    "                              %(trial_num, gene_num, model_num, tissue_num, k_num))\n",
    "\n",
    "        GX_tr = np.load('npy/trial%d/gene%d/model%d/%dtissue_trGX_k%d.npy'\\\n",
    "                        %(trial_num, gene_num, model_num, tissue_num, k_num))\n",
    "        GX_te = np.load('npy/trial%d/gene%d/model%d/%dtissue_teGX_k%d.npy'\\\n",
    "                        %(trial_num, gene_num, model_num, tissue_num, k_num))\n",
    "\n",
    "        GX_observed = np.append(GX_observed, np.reshape(GX_te, -1))\n",
    "        GX_predicted = np.append(GX_predicted, np.reshape(SNP2_te, -1))\n",
    "    R_, p = pearr(GX_observed, GX_predicted)\n",
    "    R2 = R_**2\n",
    "    \n",
    "    r_list.append(R2)\n",
    "#     if R2>0.1:\n",
    "#         plt.plot(GX_predicted, GX_observed, 'r*')\n",
    "#         plt.title('[%d]%s : %.5f / ref=%.5f'%(gene_num, gene_name, R2, gene_r_score), fontsize=14)\n",
    "#         plt.show()"
   ]
  },
  {
   "cell_type": "code",
   "execution_count": 8,
   "metadata": {},
   "outputs": [
    {
     "name": "stdout",
     "output_type": "stream",
     "text": [
      "avg 1 / 2 :  0.017254773565753008 0.023699125517065652\n"
     ]
    },
    {
     "data": {
      "image/png": "[encoded data removed]",
      "text/plain": [
       "<Figure size 432x288 with 1 Axes>"
      ]
     },
     "metadata": {
      "needs_background": "light"
     },
     "output_type": "display_data"
    }
   ],
   "source": [
    "avg_utmost = np.mean(np.array(r_ref_list))\n",
    "avg_model = np.mean(np.array(r_list))\n",
    "print('avg 1 / 2 : ',avg_utmost, avg_model)\n",
    "\n",
    "plt.title('Trial%d(model%d) vs Trial%d(model%d)'%(trial_num1, model_num1, trial_num, model_num), fontsize=14)\n",
    "plt.plot(np.array(r_ref_list), 'b.', label='1')\n",
    "plt.plot(np.array(r_list), 'r.', label='2')\n",
    "# plt.plot([0,9],[avg_model, avg_model], 'r--', alpha=0.7)\n",
    "# plt.plot([0,9],[avg_utmost, avg_utmost], 'b--', alpha=0.7)\n",
    "plt.xlabel('Gene index', fontsize=13)\n",
    "plt.ylabel('R square', fontsize=13)\n",
    "plt.legend(fontsize=12)\n",
    "# plt.savefig('img/trial%d/vsUTMOST_model%d.png'%(trial_num, model_num))\n",
    "plt.show()"
   ]
  },
  {
   "cell_type": "code",
   "execution_count": null,
   "metadata": {},
   "outputs": [],
   "source": []
  }
 ],
 "metadata": {
  "kernelspec": {
   "display_name": "Python 3",
   "language": "python",
   "name": "python3"
  },
  "language_info": {
   "codemirror_mode": {
    "name": "ipython",
    "version": 3
   },
   "file_extension": ".py",
   "mimetype": "text/x-python",
   "name": "python",
   "nbconvert_exporter": "python",
   "pygments_lexer": "ipython3",
   "version": "3.7.4"
  }
 },
 "nbformat": 4,
 "nbformat_minor": 2
}
