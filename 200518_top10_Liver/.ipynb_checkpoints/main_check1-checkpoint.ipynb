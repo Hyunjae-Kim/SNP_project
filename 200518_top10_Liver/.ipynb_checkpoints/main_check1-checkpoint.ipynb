{
 "cells": [
  {
   "cell_type": "code",
   "execution_count": 1,
   "metadata": {},
   "outputs": [],
   "source": [
    "import os\n",
    "import time\n",
    "import argparse\n",
    "import module\n",
    "import numpy as np\n",
    "import matplotlib.pyplot as plt\n",
    "from model1 import Model\n",
    "\n",
    "import torch\n",
    "import torch.nn as nn\n",
    "import torch.nn.functional as F\n",
    "import torch.utils as utils\n",
    "import torch.nn.init as init"
   ]
  },
  {
   "cell_type": "code",
   "execution_count": 2,
   "metadata": {},
   "outputs": [
    {
     "name": "stdout",
     "output_type": "stream",
     "text": [
      "\n",
      "\n",
      "[Gene 1] Model 1 ( tissue 27 ) - 1/5 fold data\n",
      "Option : 500 input length   //  50 hidden length  //  2 layers\n"
     ]
    }
   ],
   "source": [
    "trial_num = 1\n",
    "gene_num = 1\n",
    "model_num = 1\n",
    "tissue_num = 27\n",
    "k_num = 1\n",
    "\n",
    "m_count = 0\n",
    "hidden_size = 50\n",
    "for p1 in [500, 100]:\n",
    "    for p2 in [0.0002, 0.00005]:\n",
    "        for p3 in [2,3]:\n",
    "            m_count += 1\n",
    "            input_size = p1\n",
    "            learning_rate = p2\n",
    "            num_layers = p3\n",
    "            if m_count==model_num:\n",
    "                break\n",
    "        if m_count==model_num:\n",
    "            break\n",
    "    if m_count==model_num:\n",
    "        break\n",
    "\n",
    "gene_data_name = 'UTMOST_top10_Liver'\n",
    "gene_list = os.listdir('../%s/'%gene_data_name)\n",
    "gene_name = gene_list[gene_num-1]\n",
    "\n",
    "print('\\n\\n[Gene %d] Model %d ( tissue %d ) - %d/5 fold data'%(gene_num, model_num, tissue_num, k_num))\n",
    "print('Option : %d input length   //  %d hidden length  //  %d layers'%(input_size, hidden_size, num_layers))"
   ]
  },
  {
   "cell_type": "code",
   "execution_count": 4,
   "metadata": {},
   "outputs": [
    {
     "name": "stdout",
     "output_type": "stream",
     "text": [
      "(153, 23049) (153, 1)\n",
      "ENSG00000184674.8\n"
     ]
    },
    {
     "data": {
      "image/png": "[encoded data removed]",
      "text/plain": [
       "<Figure size 432x288 with 1 Axes>"
      ]
     },
     "metadata": {
      "needs_background": "light"
     },
     "output_type": "display_data"
    }
   ],
   "source": [
    "device = torch.device('cuda:1' if torch.cuda.is_available() else 'cpu')\n",
    "\n",
    "start_time = time.time()\n",
    "np.random.seed(37)\n",
    "torch.manual_seed(37)\n",
    "torch.cuda.manual_seed_all(37)\n",
    "torch.backends.cudnn.deterministic = True\n",
    "\n",
    "snp, gx = module.load_data(gene_data_name, gene_name, tissue_num, proc=True)\n",
    "print(np.shape(snp), np.shape(gx))\n",
    "print(gene_name)\n",
    "\n",
    "snp_len = np.shape(snp)[-1]\n",
    "len_dif = snp_len%input_size\n",
    "snp = snp[:, int(len_dif/2):int(len_dif/2)+snp_len-len_dif]\n",
    "\n",
    "snp_train, snp_test, gx_train, gx_test = module.k_fold_data(snp, gx, 5, k_num)\n",
    "\n",
    "snp_train = torch.Tensor(snp_train).to(device)\n",
    "snp_test = torch.Tensor(snp_test).to(device)\n",
    "gx_train = torch.Tensor(gx_train).to(device)\n",
    "gx_test = torch.Tensor(gx_test).to(device)\n",
    "\n",
    "snp_train = snp_train.view(snp_train.size()[0], -1, input_size)\n",
    "snp_test = snp_test.view(snp_test.size()[0], -1, input_size)\n",
    "\n",
    "print('\\nData shape @@@@@@')\n",
    "print('Train data : ', np.shape(snp_train),' / ', np.shape(gx_train))\n",
    "print('Test data : ', np.shape(snp_test), ' / ', np.shape(gx_test))\n",
    "print('\\n')"
   ]
  },
  {
   "cell_type": "code",
   "execution_count": 13,
   "metadata": {},
   "outputs": [
    {
     "name": "stdout",
     "output_type": "stream",
     "text": [
      "torch.Size([41, 40, 500]) torch.Size([41, 1])\n",
      "torch.Size([41, 40, 500]) torch.Size([41, 1])\n",
      "torch.Size([41, 40, 500]) torch.Size([41, 1])\n",
      "torch.Size([41, 40, 500]) torch.Size([41, 1])\n",
      "torch.Size([41, 40, 500]) torch.Size([41, 1])\n",
      "torch.Size([41, 40, 500]) torch.Size([41, 1])\n",
      "torch.Size([41, 40, 500]) torch.Size([41, 1])\n",
      "torch.Size([41, 40, 500]) torch.Size([41, 1])\n",
      "torch.Size([41, 40, 500]) torch.Size([41, 1])\n"
     ]
    }
   ],
   "source": [
    "model = Model(input_size, hidden_size, num_layers, snp_train.size()[1]).to(device)\n",
    "optimizer = torch.optim.Adam(model.parameters(), lr=learning_rate)\n",
    "\n",
    "tr_loss_list = []\n",
    "te_loss_list = []\n",
    "\n",
    "tr_loss_buff = 0\n",
    "te_loss_buff = 0\n",
    "min_iter = 0\n",
    "\n",
    "mb_div = 3\n",
    "mb_idx = int(len(snp_train)/mb_div)\n",
    "s = np.arange(len(snp_train))\n",
    "\n",
    "for i in range(3):\n",
    "    np.random.shuffle(s)\n",
    "    snp_train = snp_train[s]\n",
    "    gx_train = gx_train[s]\n",
    "    for mb in range(mb_div):\n",
    "        dsnp_train = snp_train[mb*mb_idx:(mb+1)*mb_idx]\n",
    "        dgx_train = gx_train[mb*mb_idx:(mb+1)*mb_idx]\n",
    "        \n",
    "        optimizer.zero_grad()\n",
    "        tr_loss, output = model(dsnp_train, dgx_train)\n",
    "        tr_loss.backward()\n",
    "        optimizer.step()\n",
    "    \n",
    "#     if i%100==0:\n",
    "#         te_loss, out_test = model(snp_test, gx_test)\n",
    "        \n",
    "#         tr_loss_list.append(tr_loss.cpu().item())\n",
    "#         te_loss_list.append(te_loss.cpu().item())\n",
    "        \n",
    "#     if i%100==0:\n",
    "#         print('iteration :', '%d/2000'%i, ' -  train loss :', \\\n",
    "#               np.round(tr_loss.cpu().item(),3), '/  ', \\\n",
    "#               'test loss :', np.round(te_loss.cpu().item(), 3))\n",
    "        \n",
    "#         if te_loss_buff==0: te_loss_buff = te_loss.cpu().item(); continue\n",
    "        \n",
    "#         if te_loss_buff>=te_loss.cpu().item():\n",
    "#             min_iter = i\n",
    "#             te_loss_buff = te_loss.cpu().item()\n",
    "#             tr_loss_buff = tr_loss.cpu().item()"
   ]
  },
  {
   "cell_type": "code",
   "execution_count": null,
   "metadata": {},
   "outputs": [],
   "source": []
  }
 ],
 "metadata": {
  "kernelspec": {
   "display_name": "Python 3",
   "language": "python",
   "name": "python3"
  },
  "language_info": {
   "codemirror_mode": {
    "name": "ipython",
    "version": 3
   },
   "file_extension": ".py",
   "mimetype": "text/x-python",
   "name": "python",
   "nbconvert_exporter": "python",
   "pygments_lexer": "ipython3",
   "version": "3.7.4"
  }
 },
 "nbformat": 4,
 "nbformat_minor": 2
}
