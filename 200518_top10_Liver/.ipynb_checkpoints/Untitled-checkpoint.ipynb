{
 "cells": [
  {
   "cell_type": "code",
   "execution_count": 1,
   "metadata": {},
   "outputs": [],
   "source": [
    "import os\n",
    "import numpy as np\n",
    "import json\n",
    "import matplotlib.pyplot as plt\n",
    "import pandas as pd\n",
    "from scipy.stats import pearsonr as pearr"
   ]
  },
  {
   "cell_type": "code",
   "execution_count": 14,
   "metadata": {},
   "outputs": [
    {
     "name": "stdout",
     "output_type": "stream",
     "text": [
      "333 333 331 333\n"
     ]
    }
   ],
   "source": [
    "trial_num = 5\n",
    "model_num = 15\n",
    "tissue_num = 27\n",
    "\n",
    "ensg_name = json.load(open('whole_ensg2name.json'))\n",
    "name_rsqr = json.load(open('over300_name2rsqr.json'))\n",
    "\n",
    "gene_data_name = 'UTMOST_over300_Liver'\n",
    "gene_list = os.listdir('../%s/'%gene_data_name)\n",
    "\n",
    "r_list = []\n",
    "r_ref_list = []\n",
    "real_name_list = []\n",
    "for g in range(len(gene_list)):\n",
    "    gene_num = g+1\n",
    "    gene_name = gene_list[g]\n",
    "    gene_real_name = ensg_name[gene_name]\n",
    "    gene_r_score = name_rsqr[gene_real_name]\n",
    "    r_ref_list.append(gene_r_score)\n",
    "    real_name_list.append(gene_real_name)\n",
    "print(len(gene_list), len(r_ref_list), len(name_rsqr), len(real_name_list))"
   ]
  },
  {
   "cell_type": "code",
   "execution_count": 20,
   "metadata": {},
   "outputs": [
    {
     "name": "stdout",
     "output_type": "stream",
     "text": [
      "ENSG00000122390.13 ENSG00000262621.2\n",
      "ENSG00000196693.10 ENSG00000272373.1\n",
      "NAA60 NAA60\n",
      "ZNF33B ZNF33B\n"
     ]
    }
   ],
   "source": [
    "# print(real_name_list)\n",
    "# for k in range(len(real_name_list)):\n",
    "#     count = 0\n",
    "#     for k2 in range(len(real_name_list)):\n",
    "#         if k==k2:\n",
    "#             continue\n",
    "#         if real_name_list[k]==real_name_list[k2]:\n",
    "#             print('same', k, k2)\n",
    "print(gene_list[79], gene_list[101])\n",
    "print(gene_list[139], gene_list[189])\n",
    "print(real_name_list[79], real_name_list[101])\n",
    "print(real_name_list[139], real_name_list[189])"
   ]
  }
 ],
 "metadata": {
  "kernelspec": {
   "display_name": "Python 3",
   "language": "python",
   "name": "python3"
  },
  "language_info": {
   "codemirror_mode": {
    "name": "ipython",
    "version": 3
   },
   "file_extension": ".py",
   "mimetype": "text/x-python",
   "name": "python",
   "nbconvert_exporter": "python",
   "pygments_lexer": "ipython3",
   "version": "3.7.4"
  }
 },
 "nbformat": 4,
 "nbformat_minor": 2
}
