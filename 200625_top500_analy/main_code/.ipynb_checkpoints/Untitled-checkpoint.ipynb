{
 "cells": [
  {
   "cell_type": "code",
   "execution_count": 1,
   "metadata": {},
   "outputs": [],
   "source": [
    "import os\n",
    "import time\n",
    "import argparse\n",
    "import module3 as module\n",
    "import numpy as np\n",
    "import matplotlib.pyplot as plt"
   ]
  },
  {
   "cell_type": "code",
   "execution_count": 2,
   "metadata": {},
   "outputs": [
    {
     "name": "stdout",
     "output_type": "stream",
     "text": [
      "(153, 23718)\n",
      "(123, 23718) (123, 1)\n",
      "(30, 23718) (30, 1)\n"
     ]
    }
   ],
   "source": [
    "gene_num = 27\n",
    "tissue_num = 27\n",
    "k_num = 1\n",
    "gene_data_name = 'UTMOST_top500_over100_Liver'\n",
    "gene_list = os.listdir('../../%s/'%gene_data_name)\n",
    "gene_name = gene_list[gene_num-1]\n",
    "\n",
    "snp, gx = module.load_data(gene_data_name, gene_name, tissue_num, proc=True)\n",
    "snp_train, snp_test, gx_train, gx_test = module.k_fold_data(snp, gx, 5, k_num)\n",
    "\n",
    "print(np.shape(snp))\n",
    "print(np.shape(snp_train), np.shape(gx_train))\n",
    "print(np.shape(snp_test), np.shape(gx_test))"
   ]
  },
  {
   "cell_type": "code",
   "execution_count": 9,
   "metadata": {},
   "outputs": [
    {
     "name": "stdout",
     "output_type": "stream",
     "text": [
      "(123, 23718)\n"
     ]
    }
   ],
   "source": [
    "a = np.random.normal(scale=0.5, size=np.shape(snp_train))*0.1\n",
    "print(np.shape(a))"
   ]
  },
  {
   "cell_type": "code",
   "execution_count": null,
   "metadata": {},
   "outputs": [],
   "source": []
  }
 ],
 "metadata": {
  "kernelspec": {
   "display_name": "Python 3",
   "language": "python",
   "name": "python3"
  },
  "language_info": {
   "codemirror_mode": {
    "name": "ipython",
    "version": 3
   },
   "file_extension": ".py",
   "mimetype": "text/x-python",
   "name": "python",
   "nbconvert_exporter": "python",
   "pygments_lexer": "ipython3",
   "version": "3.7.4"
  }
 },
 "nbformat": 4,
 "nbformat_minor": 2
}
