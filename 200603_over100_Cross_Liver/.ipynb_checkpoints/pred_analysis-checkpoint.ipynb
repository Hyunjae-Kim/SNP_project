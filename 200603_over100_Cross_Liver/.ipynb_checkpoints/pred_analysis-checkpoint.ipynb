{
 "cells": [
  {
   "cell_type": "code",
   "execution_count": 4,
   "metadata": {},
   "outputs": [],
   "source": [
    "import os\n",
    "import numpy as np\n",
    "import json\n",
    "import matplotlib.pyplot as plt\n",
    "import pandas as pd\n",
    "from scipy.stats import pearsonr as pearr"
   ]
  },
  {
   "cell_type": "code",
   "execution_count": 22,
   "metadata": {
    "scrolled": false
   },
   "outputs": [],
   "source": [
    "trial_num = 1\n",
    "model_num = 1\n",
    "tissue_num = 27\n",
    "check_t_num = 27\n",
    "\n",
    "sort_153idx = np.load('Liver_153sample.npy')\n",
    "ensg_name = json.load(open('whole_ensg2name.json'))\n",
    "name_rsqr = json.load(open('over333_name2rsqr.json'))\n",
    "\n",
    "gene_data_name = 'UTMOST_over333_Liver'\n",
    "gene_list = os.listdir('../%s/'%gene_data_name)\n",
    "\n",
    "r_list = []\n",
    "r_ref_list = []\n",
    "gene_name_list = []\n",
    "for g in range(42):\n",
    "    gene_num = g+1\n",
    "    gene_name = gene_list[g]\n",
    "    gene_real_name = ensg_name[gene_name]\n",
    "    gene_r_score = name_rsqr[gene_real_name]\n",
    "    r_ref_list.append(gene_r_score)\n",
    "    gene_name_list.append(gene_real_name)\n",
    "\n",
    "#     print(gene_num, gene_real_name)\n",
    "    GX_observed = np.array([])\n",
    "    GX_predicted = np.array([])\n",
    "    \n",
    "    for k in range(5):\n",
    "        k_num = k+1\n",
    "\n",
    "        try:\n",
    "            SNP2_tr = np.load('npy/trial%d/gene%d/model%d/%stissue_trSNP2_k%d.npy'\\\n",
    "                              %(trial_num, gene_num, model_num, 'all', k_num))[:, check_t_num-1]\n",
    "            SNP2_te = np.load('npy/trial%d/gene%d/model%d/%stissue_teSNP2_k%d.npy'\\\n",
    "                              %(trial_num, gene_num, model_num, 'all', k_num))[:, check_t_num-1]\n",
    "        except FileNotFoundError:\n",
    "            print('%d _ last saved snp2 loaded.'%gene_num)\n",
    "            SNP2_tr = np.load('npy/trial%d/gene%d/model%d/%stissue_trSNP2_k%d_last.npy'\\\n",
    "                              %(trial_num, gene_num, model_num, 'all', k_num))[:, check_t_num-1]\n",
    "            SNP2_te = np.load('npy/trial%d/gene%d/model%d/%stissue_teSNP2_k%d_last.npy'\\\n",
    "                              %(trial_num, gene_num, model_num, 'all', k_num))[:, check_t_num-1]\n",
    "        GX_tr = np.load('npy/trial%d/gene%d/model%d/%stissue_trGX_k%d.npy'\\\n",
    "                        %(trial_num, gene_num, model_num, 'all', k_num))[:, check_t_num-1]\n",
    "        GX_te = np.load('npy/trial%d/gene%d/model%d/%stissue_teGX_k%d.npy'\\\n",
    "                        %(trial_num, gene_num, model_num, 'all', k_num))[:, check_t_num-1]\n",
    "        \n",
    "        GX_observed = np.append(GX_observed, np.reshape(GX_te, -1))\n",
    "        GX_predicted = np.append(GX_predicted, np.reshape(SNP2_te, -1))\n",
    "    \n",
    "#     sort_153idx = np.where(GX_observed>0)[0]\n",
    "    GX_observed = GX_observed[sort_153idx]\n",
    "    GX_predicted = GX_predicted[sort_153idx]\n",
    "#     np.save('Liver_153sample.npy', sort_153idx)\n",
    "    R_, p = pearr(GX_observed, GX_predicted)\n",
    "    R2 = R_**2\n",
    "    \n",
    "    r_list.append(R2)\n",
    "    \n",
    "    if R2>0.1:\n",
    "        print('%s - UTMOST R sqr : %.5f'%(gene_real_name, gene_r_score))\n",
    "        plt.plot(GX_predicted, GX_observed, 'r*')\n",
    "        plt.title('[%d]%s : %.5f'%(gene_num, gene_real_name, R2), fontsize=14)\n",
    "        plt.ylabel('Normalized Observed expression', fontsize=13)\n",
    "        plt.xlabel('Predicted expression', fontsize=13)\n",
    "#         plt.savefig('img/trial%d/Scatter_model%d_gene%d.png'%(trial_num, model_num, gene_num))\n",
    "        plt.show()\n",
    "        \n",
    "        plt.plot(GX_predicted, GX_observed, 'r*')\n",
    "        plt.title('[%d]%s : %.5f'%(gene_num, gene_real_name, R2), fontsize=14)\n",
    "        plt.ylabel('Observed expression', fontsize=13)\n",
    "        plt.xlabel('Predicted expression', fontsize=13)\n",
    "#         plt.savefig('img/trial%d/Scatter_model%d_gene%d.png'%(trial_num, model_num, gene_num))\n",
    "        plt.show()"
   ]
  },
  {
   "cell_type": "code",
   "execution_count": 23,
   "metadata": {},
   "outputs": [
    {
     "name": "stdout",
     "output_type": "stream",
     "text": [
      "0.013052973873886426 0.019497906090162487\n"
     ]
    },
    {
     "data": {
      "image/png": "[encoded data removed]",
      "text/plain": [
       "<Figure size 432x288 with 1 Axes>"
      ]
     },
     "metadata": {
      "needs_background": "light"
     },
     "output_type": "display_data"
    }
   ],
   "source": [
    "sort_idx = np.argsort(r_ref_list)\n",
    "avg_model = np.mean(np.array(r_list))\n",
    "avg_utmost = np.mean(np.array(r_ref_list))\n",
    "print(avg_model, avg_utmost)\n",
    "\n",
    "plt.title('UTMOST vs Trial%d (model %d)'%(trial_num, model_num), fontsize=14)\n",
    "plt.plot(np.array(r_list)[sort_idx], 'r.', label='Model')\n",
    "plt.plot(np.array(r_ref_list)[sort_idx], 'b.', label='UTMOST')\n",
    "# plt.plot([-1,201],[avg_model, avg_model], 'r--', alpha=0.7)\n",
    "# plt.plot([-1,201],[avg_utmost, avg_utmost], 'b--', alpha=0.7)\n",
    "# plt.xticks(np.arange(10),np.arange(10)+1)\n",
    "plt.xlabel('Gene index', fontsize=13)\n",
    "plt.ylabel('R square', fontsize=13)\n",
    "plt.legend()\n",
    "# plt.savefig('img/trial%d/vsUTMOST_model%d.png'%(trial_num, model_num))\n",
    "plt.show()"
   ]
  },
  {
   "cell_type": "code",
   "execution_count": null,
   "metadata": {},
   "outputs": [],
   "source": []
  }
 ],
 "metadata": {
  "kernelspec": {
   "display_name": "Python 3",
   "language": "python",
   "name": "python3"
  },
  "language_info": {
   "codemirror_mode": {
    "name": "ipython",
    "version": 3
   },
   "file_extension": ".py",
   "mimetype": "text/x-python",
   "name": "python",
   "nbconvert_exporter": "python",
   "pygments_lexer": "ipython3",
   "version": "3.7.4"
  }
 },
 "nbformat": 4,
 "nbformat_minor": 2
}
