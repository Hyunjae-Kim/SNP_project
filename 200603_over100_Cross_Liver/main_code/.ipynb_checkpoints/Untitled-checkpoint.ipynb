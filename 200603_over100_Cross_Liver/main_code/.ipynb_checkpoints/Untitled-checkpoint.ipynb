{
 "cells": [
  {
   "cell_type": "code",
   "execution_count": 1,
   "metadata": {},
   "outputs": [],
   "source": [
    "import os\n",
    "import time\n",
    "import argparse\n",
    "import module3\n",
    "import numpy as np\n",
    "import matplotlib.pyplot as plt\n",
    "\n",
    "import torch\n",
    "import torch.nn as nn\n",
    "import torch.nn.functional as F\n",
    "import torch.utils as utils\n",
    "import torch.nn.init as init"
   ]
  },
  {
   "cell_type": "code",
   "execution_count": 12,
   "metadata": {},
   "outputs": [
    {
     "name": "stdout",
     "output_type": "stream",
     "text": [
      "ENSG00000105701.11\n"
     ]
    }
   ],
   "source": [
    "gene_num = 1\n",
    "tissue_num = 1\n",
    "k_num = 0\n",
    "\n",
    "gene_data_name = 'UTMOST_over333_Liver'\n",
    "gene_list = os.listdir('../../%s/'%gene_data_name)\n",
    "gene_name = gene_list[gene_num-1]\n",
    "\n",
    "print(gene_name)"
   ]
  },
  {
   "cell_type": "code",
   "execution_count": 50,
   "metadata": {},
   "outputs": [],
   "source": [
    "def load_data(gene_data_name, gene_name, proc=True):\n",
    "    np.random.seed(37)\n",
    "    \n",
    "    snp_name = '../../%s/%s/%s__snps.npy'%(gene_data_name, gene_name, gene_name)\n",
    "    gx_name = '../../%s/%s/%s__gene_expression_levels.npy'%(gene_data_name, gene_name, gene_name)\n",
    "    \n",
    "    a = np.float32(np.load(snp_name).transpose())\n",
    "    b = np.float32(np.load(gx_name).transpose())[:,:44]\n",
    "    print(np.shape(a), np.shape(b))\n",
    "        \n",
    "    snp_data = a\n",
    "    gx_data = np.nan_to_num(b)\n",
    "    mask_data = np.float32(np.nan_to_num(np.abs(b)+1)>0)\n",
    "    \n",
    "    ex_count = np.sum(mask_data, axis=0)\n",
    "    print(np.shape(mask_data), np.shape(ex_count))\n",
    "    print(ex_count)\n",
    "    \n",
    "#     no_nan_idx = np.where(no_nan_arg)[0]\n",
    "#     snp_data = a[no_nan_idx, :]\n",
    "#     gx_data = np.nan_to_num(b[no_nan_idx, :44])\n",
    "#     mask_data = np.float32(np.nan_to_num(np.abs(b[no_nan_idx, :44])+1)>0)\n",
    "\n",
    "#     if proc:\n",
    "#         tiss_mean = np.mean(gx_data, axis=0)\n",
    "#         gx_data = (gx_data - tiss_mean)/tiss_mean\n",
    "#         s = np.arange(len(gx_data))\n",
    "#         np.random.shuffle(s)\n",
    "        \n",
    "#         snp_data = snp_data[s]\n",
    "#         gx_data = gx_data[s]\n",
    "#         mask_data = mask_data[s]\n",
    "        \n",
    "    return snp_data, gx_data, mask_data"
   ]
  },
  {
   "cell_type": "code",
   "execution_count": 51,
   "metadata": {},
   "outputs": [
    {
     "name": "stdout",
     "output_type": "stream",
     "text": [
      "(620, 20995) (620, 44)\n",
      "(620, 44) (44,)\n",
      "[491. 414. 399. 388. 385. 383. 369. 361. 358. 335. 335. 313. 300. 272.\n",
      " 267. 264. 251. 246. 237. 225. 220. 213. 203. 175. 157. 154. 153. 152.\n",
      " 146. 144. 136. 132. 130. 125. 122. 122. 118. 117. 111. 111. 109. 108.\n",
      " 106. 101.]\n"
     ]
    }
   ],
   "source": [
    "load_data(gene_data_name, gene_name, proc=True)"
   ]
  },
  {
   "cell_type": "code",
   "execution_count": null,
   "metadata": {},
   "outputs": [],
   "source": []
  }
 ],
 "metadata": {
  "kernelspec": {
   "display_name": "Python 3",
   "language": "python",
   "name": "python3"
  },
  "language_info": {
   "codemirror_mode": {
    "name": "ipython",
    "version": 3
   },
   "file_extension": ".py",
   "mimetype": "text/x-python",
   "name": "python",
   "nbconvert_exporter": "python",
   "pygments_lexer": "ipython3",
   "version": "3.7.4"
  }
 },
 "nbformat": 4,
 "nbformat_minor": 2
}
