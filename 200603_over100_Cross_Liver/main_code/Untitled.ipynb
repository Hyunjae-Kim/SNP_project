{
 "cells": [
  {
   "cell_type": "code",
   "execution_count": 1,
   "metadata": {},
   "outputs": [],
   "source": [
    "import os\n",
    "import time\n",
    "import argparse\n",
    "import module3\n",
    "import numpy as np\n",
    "import matplotlib.pyplot as plt\n",
    "\n",
    "import torch\n",
    "import torch.nn as nn\n",
    "import torch.nn.functional as F\n",
    "import torch.utils as utils\n",
    "import torch.nn.init as init"
   ]
  },
  {
   "cell_type": "code",
   "execution_count": 2,
   "metadata": {},
   "outputs": [
    {
     "name": "stdout",
     "output_type": "stream",
     "text": [
      "ENSG00000105701.11\n"
     ]
    }
   ],
   "source": [
    "gene_num = 1\n",
    "tissue_num = 1\n",
    "k_num = 0\n",
    "\n",
    "gene_data_name = 'UTMOST_over333_Liver'\n",
    "gene_list = os.listdir('../../%s/'%gene_data_name)\n",
    "gene_name = gene_list[gene_num-1]\n",
    "\n",
    "print(gene_name)"
   ]
  },
  {
   "cell_type": "code",
   "execution_count": 5,
   "metadata": {},
   "outputs": [],
   "source": [
    "def load_data(gene_data_name, gene_name, proc=True):\n",
    "    np.random.seed(37)\n",
    "    \n",
    "    snp_name = '../../%s/%s/%s__snps.npy'%(gene_data_name, gene_name, gene_name)\n",
    "    gx_name = '../../%s/%s/%s__gene_expression_levels.npy'%(gene_data_name, gene_name, gene_name)\n",
    "    \n",
    "    a = np.float32(np.load(snp_name).transpose())\n",
    "    b = np.float32(np.load(gx_name).transpose())[:,:44]\n",
    "        \n",
    "    snp_data = a\n",
    "    gx_data = np.nan_to_num(b)\n",
    "    mask_data = np.float32(np.nan_to_num(np.abs(b)+1)>0)\n",
    "    \n",
    "    ex_count = np.sum(mask_data, axis=0)\n",
    "    \n",
    "    if proc:\n",
    "        tiss_mean = np.mean(gx_data, axis=0)\n",
    "        gx_data = (gx_data - tiss_mean)/ex_count\n",
    "        s = np.arange(len(gx_data))\n",
    "        np.random.shuffle(s)\n",
    "        \n",
    "        snp_data = snp_data[s]\n",
    "        gx_data = gx_data[s]\n",
    "        mask_data = mask_data[s]\n",
    "        \n",
    "    return snp_data, gx_data, mask_data"
   ]
  },
  {
   "cell_type": "code",
   "execution_count": 6,
   "metadata": {},
   "outputs": [
    {
     "name": "stdout",
     "output_type": "stream",
     "text": [
      "(620, 20995) (620, 44) (620, 44)\n",
      "[[-0.00972451 -0.          0.04489472 ... -0.         -0.\n",
      "  -0.        ]\n",
      " [ 0.00889056 -0.          0.29502004 ... -0.         -0.\n",
      "  -0.        ]\n",
      " [ 0.01280094 -0.         -0.         ... -0.         -0.\n",
      "  -0.        ]\n",
      " ...\n",
      " [ 0.13013291  0.18625815  0.5156967  ... -0.         -0.\n",
      "  -0.        ]\n",
      " [ 0.05276022 -0.          0.03855387 ... -0.         -0.\n",
      "  -0.        ]\n",
      " [ 0.07066246  0.18869776  0.59153634 ... -0.         -0.\n",
      "  -0.        ]]\n"
     ]
    }
   ],
   "source": [
    "snp, gx, mask = load_data(gene_data_name, gene_name, proc=True)\n",
    "print(np.shape(snp), np.shape(gx), np.shape(mask))\n",
    "print(gx*mask)"
   ]
  },
  {
   "cell_type": "code",
   "execution_count": null,
   "metadata": {},
   "outputs": [],
   "source": []
  }
 ],
 "metadata": {
  "kernelspec": {
   "display_name": "Python 3",
   "language": "python",
   "name": "python3"
  },
  "language_info": {
   "codemirror_mode": {
    "name": "ipython",
    "version": 3
   },
   "file_extension": ".py",
   "mimetype": "text/x-python",
   "name": "python",
   "nbconvert_exporter": "python",
   "pygments_lexer": "ipython3",
   "version": "3.7.4"
  }
 },
 "nbformat": 4,
 "nbformat_minor": 2
}
